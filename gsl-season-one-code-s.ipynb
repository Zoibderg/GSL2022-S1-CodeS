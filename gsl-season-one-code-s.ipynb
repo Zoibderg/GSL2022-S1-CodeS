{
 "cells": [
  {
   "cell_type": "markdown",
   "metadata": {},
   "source": [
    "# Project Title - change this\n",
    "\n",
    "TODO - Write some introduction about your project here: describe the dataset, where you got it from, what you're trying to do with it, and which tools & techniques you're using. You can also mention about the course [Data Analysis with Python: Zero to Pandas](zerotopandas.com), and what you've learned from it."
   ]
  },
  {
   "cell_type": "code",
   "execution_count": 1,
   "metadata": {},
   "outputs": [],
   "source": [
    "# directory of datasets\n",
    "data_dir = './csv_datasets'"
   ]
  },
  {
   "cell_type": "code",
   "execution_count": 2,
   "metadata": {},
   "outputs": [
    {
     "data": {
      "text/plain": [
       "['player.csv', '.DS_Store', 'match.csv', 'eventadjacency.csv', 'event.csv']"
      ]
     },
     "execution_count": 2,
     "metadata": {},
     "output_type": "execute_result"
    }
   ],
   "source": [
    "import os\n",
    "os.listdir(data_dir)"
   ]
  },
  {
   "cell_type": "markdown",
   "metadata": {},
   "source": [
    "Let us save and upload our work to Jovian before continuing."
   ]
  },
  {
   "cell_type": "code",
   "execution_count": 3,
   "metadata": {},
   "outputs": [],
   "source": [
    "project_name = \"gsl-season-one-code-s\"\n",
    "project_file = 'gsl-season-one-code-s.ipynb'"
   ]
  },
  {
   "cell_type": "code",
   "execution_count": 4,
   "metadata": {},
   "outputs": [
    {
     "name": "stdout",
     "output_type": "stream",
     "text": [
      "Note: you may need to restart the kernel to use updated packages.\n"
     ]
    }
   ],
   "source": [
    "%pip install jovian --upgrade -q"
   ]
  },
  {
   "cell_type": "code",
   "execution_count": 5,
   "metadata": {},
   "outputs": [
    {
     "data": {
      "application/javascript": [
       "if (window.IPython && IPython.notebook.kernel) IPython.notebook.kernel.execute('jovian.utils.jupyter.get_notebook_name_saved = lambda: \"' + IPython.notebook.notebook_name + '\"')"
      ],
      "text/plain": [
       "<IPython.core.display.Javascript object>"
      ]
     },
     "metadata": {},
     "output_type": "display_data"
    }
   ],
   "source": [
    "import jovian"
   ]
  },
  {
   "cell_type": "code",
   "execution_count": 6,
   "metadata": {},
   "outputs": [],
   "source": [
    "# jovian.commit(project=project_name, filename=project_file)"
   ]
  },
  {
   "cell_type": "markdown",
   "metadata": {},
   "source": [
    "## Data Preparation and Cleaning\n",
    "\n",
    "**TODO** - Write some explanation here.\n",
    "\n"
   ]
  },
  {
   "cell_type": "markdown",
   "metadata": {},
   "source": [
    "> Instructions (delete this cell):\n",
    ">\n",
    "> - Load the dataset into a data frame using Pandas\n",
    "> - Explore the number of rows & columns, ranges of values etc.\n",
    "> - Handle missing, incorrect and invalid data\n",
    "> - Perform any additional steps (parsing dates, creating additional columns, merging multiple dataset etc.)"
   ]
  },
  {
   "cell_type": "code",
   "execution_count": 7,
   "metadata": {},
   "outputs": [],
   "source": [
    "import pandas as pd"
   ]
  },
  {
   "cell_type": "code",
   "execution_count": 8,
   "metadata": {},
   "outputs": [],
   "source": [
    "# import raw data frames from csv\n",
    "events_RDF = pd.read_csv(f'{data_dir}/event.csv')\n",
    "eventadjacency_RDF = pd.read_csv(f'{data_dir}/eventadjacency.csv')\n",
    "matches_RDF = pd.read_csv(f'{data_dir}/match.csv')\n",
    "players_RDF = pd.read_csv(f'{data_dir}/player.csv')"
   ]
  },
  {
   "cell_type": "code",
   "execution_count": 9,
   "metadata": {},
   "outputs": [
    {
     "name": "stdout",
     "output_type": "stream",
     "text": [
      "<class 'pandas.core.frame.DataFrame'>\n",
      "RangeIndex: 125344 entries, 0 to 125343\n",
      "Data columns (total 12 columns):\n",
      " #   Column     Non-Null Count   Dtype  \n",
      "---  ------     --------------   -----  \n",
      " 0   id         125344 non-null  int64  \n",
      " 1   name       125321 non-null  object \n",
      " 2   parent_id  124166 non-null  float64\n",
      " 3   fullname   125344 non-null  object \n",
      " 4   prizepool  13032 non-null   object \n",
      " 5   earliest   123468 non-null  object \n",
      " 6   latest     123468 non-null  object \n",
      " 7   category   245 non-null     object \n",
      " 8   type       125344 non-null  object \n",
      " 9   idx        125344 non-null  int64  \n",
      " 10  wcs_year   105 non-null     float64\n",
      " 11  wcs_tier   105 non-null     float64\n",
      "dtypes: float64(3), int64(2), object(7)\n",
      "memory usage: 11.5+ MB\n"
     ]
    }
   ],
   "source": [
    "# explore and clean events\n",
    "events_RDF.drop(['lft', 'rgt', 'closed', 'big', \n",
    "                'noprint', 'lp_name', 'tlpd_id', 'tlpd_db', \n",
    "                'tl_thread', 'homepage'], axis=1, inplace=True)\n",
    "\n",
    "events_RDF.info()"
   ]
  },
  {
   "cell_type": "code",
   "execution_count": 10,
   "metadata": {},
   "outputs": [
    {
     "data": {
      "text/html": [
       "<div>\n",
       "<style scoped>\n",
       "    .dataframe tbody tr th:only-of-type {\n",
       "        vertical-align: middle;\n",
       "    }\n",
       "\n",
       "    .dataframe tbody tr th {\n",
       "        vertical-align: top;\n",
       "    }\n",
       "\n",
       "    .dataframe thead th {\n",
       "        text-align: right;\n",
       "    }\n",
       "</style>\n",
       "<table border=\"1\" class=\"dataframe\">\n",
       "  <thead>\n",
       "    <tr style=\"text-align: right;\">\n",
       "      <th></th>\n",
       "      <th>id</th>\n",
       "      <th>name</th>\n",
       "      <th>parent_id</th>\n",
       "      <th>fullname</th>\n",
       "      <th>prizepool</th>\n",
       "      <th>earliest</th>\n",
       "      <th>latest</th>\n",
       "      <th>category</th>\n",
       "      <th>type</th>\n",
       "      <th>idx</th>\n",
       "      <th>wcs_year</th>\n",
       "      <th>wcs_tier</th>\n",
       "    </tr>\n",
       "  </thead>\n",
       "  <tbody>\n",
       "    <tr>\n",
       "      <th>21007</th>\n",
       "      <td>95516</td>\n",
       "      <td>Group D</td>\n",
       "      <td>95335.0</td>\n",
       "      <td>StarLine League Junior #1 Group Stage 2 Group D</td>\n",
       "      <td>NaN</td>\n",
       "      <td>2019-04-08</td>\n",
       "      <td>2019-04-08</td>\n",
       "      <td>NaN</td>\n",
       "      <td>round</td>\n",
       "      <td>103558</td>\n",
       "      <td>NaN</td>\n",
       "      <td>NaN</td>\n",
       "    </tr>\n",
       "    <tr>\n",
       "      <th>112380</th>\n",
       "      <td>80046</td>\n",
       "      <td>Forged Force Gaming vs 3D Clan</td>\n",
       "      <td>79962.0</td>\n",
       "      <td>WardiTV Team League Season 8 Open Group Stage ...</td>\n",
       "      <td>NaN</td>\n",
       "      <td>2018-03-11</td>\n",
       "      <td>2018-03-11</td>\n",
       "      <td>NaN</td>\n",
       "      <td>round</td>\n",
       "      <td>113158</td>\n",
       "      <td>NaN</td>\n",
       "      <td>NaN</td>\n",
       "    </tr>\n",
       "    <tr>\n",
       "      <th>50790</th>\n",
       "      <td>54214</td>\n",
       "      <td>Ro8</td>\n",
       "      <td>54204.0</td>\n",
       "      <td>E-Sport SM 2016 1st Event Online Qualifiers #2...</td>\n",
       "      <td>NaN</td>\n",
       "      <td>2016-02-24</td>\n",
       "      <td>2016-02-24</td>\n",
       "      <td>NaN</td>\n",
       "      <td>round</td>\n",
       "      <td>33745</td>\n",
       "      <td>NaN</td>\n",
       "      <td>NaN</td>\n",
       "    </tr>\n",
       "    <tr>\n",
       "      <th>22308</th>\n",
       "      <td>105842</td>\n",
       "      <td>Ro8</td>\n",
       "      <td>105839.0</td>\n",
       "      <td>zukaCup #2 Ro8</td>\n",
       "      <td>NaN</td>\n",
       "      <td>2020-02-15</td>\n",
       "      <td>2020-02-15</td>\n",
       "      <td>NaN</td>\n",
       "      <td>round</td>\n",
       "      <td>125319</td>\n",
       "      <td>NaN</td>\n",
       "      <td>NaN</td>\n",
       "    </tr>\n",
       "    <tr>\n",
       "      <th>109955</th>\n",
       "      <td>67535</td>\n",
       "      <td>Round 6</td>\n",
       "      <td>67523.0</td>\n",
       "      <td>ESL ANZ Cup 2017 March LB Round 6</td>\n",
       "      <td>NaN</td>\n",
       "      <td>2017-03-18</td>\n",
       "      <td>2017-03-18</td>\n",
       "      <td>NaN</td>\n",
       "      <td>round</td>\n",
       "      <td>29046</td>\n",
       "      <td>NaN</td>\n",
       "      <td>NaN</td>\n",
       "    </tr>\n",
       "  </tbody>\n",
       "</table>\n",
       "</div>"
      ],
      "text/plain": [
       "            id                            name  parent_id  \\\n",
       "21007    95516                         Group D    95335.0   \n",
       "112380   80046  Forged Force Gaming vs 3D Clan    79962.0   \n",
       "50790    54214                             Ro8    54204.0   \n",
       "22308   105842                             Ro8   105839.0   \n",
       "109955   67535                         Round 6    67523.0   \n",
       "\n",
       "                                                 fullname prizepool  \\\n",
       "21007     StarLine League Junior #1 Group Stage 2 Group D       NaN   \n",
       "112380  WardiTV Team League Season 8 Open Group Stage ...       NaN   \n",
       "50790   E-Sport SM 2016 1st Event Online Qualifiers #2...       NaN   \n",
       "22308                                      zukaCup #2 Ro8       NaN   \n",
       "109955                  ESL ANZ Cup 2017 March LB Round 6       NaN   \n",
       "\n",
       "          earliest      latest category   type     idx  wcs_year  wcs_tier  \n",
       "21007   2019-04-08  2019-04-08      NaN  round  103558       NaN       NaN  \n",
       "112380  2018-03-11  2018-03-11      NaN  round  113158       NaN       NaN  \n",
       "50790   2016-02-24  2016-02-24      NaN  round   33745       NaN       NaN  \n",
       "22308   2020-02-15  2020-02-15      NaN  round  125319       NaN       NaN  \n",
       "109955  2017-03-18  2017-03-18      NaN  round   29046       NaN       NaN  "
      ]
     },
     "execution_count": 10,
     "metadata": {},
     "output_type": "execute_result"
    }
   ],
   "source": [
    "events_RDF.sample(5)"
   ]
  },
  {
   "cell_type": "markdown",
   "metadata": {},
   "source": [
    "Taking a look at event adjacency, it looks like this might not be useful for us. "
   ]
  },
  {
   "cell_type": "code",
   "execution_count": 11,
   "metadata": {},
   "outputs": [
    {
     "name": "stdout",
     "output_type": "stream",
     "text": [
      "<class 'pandas.core.frame.DataFrame'>\n",
      "RangeIndex: 591452 entries, 0 to 591451\n",
      "Data columns (total 4 columns):\n",
      " #   Column     Non-Null Count   Dtype\n",
      "---  ------     --------------   -----\n",
      " 0   id         591452 non-null  int64\n",
      " 1   parent_id  591452 non-null  int64\n",
      " 2   child_id   591452 non-null  int64\n",
      " 3   distance   591452 non-null  int64\n",
      "dtypes: int64(4)\n",
      "memory usage: 18.0 MB\n"
     ]
    }
   ],
   "source": [
    "# explore and clean event adjacency\n",
    "eventadjacency_RDF.info()"
   ]
  },
  {
   "cell_type": "code",
   "execution_count": 12,
   "metadata": {},
   "outputs": [
    {
     "data": {
      "text/html": [
       "<div>\n",
       "<style scoped>\n",
       "    .dataframe tbody tr th:only-of-type {\n",
       "        vertical-align: middle;\n",
       "    }\n",
       "\n",
       "    .dataframe tbody tr th {\n",
       "        vertical-align: top;\n",
       "    }\n",
       "\n",
       "    .dataframe thead th {\n",
       "        text-align: right;\n",
       "    }\n",
       "</style>\n",
       "<table border=\"1\" class=\"dataframe\">\n",
       "  <thead>\n",
       "    <tr style=\"text-align: right;\">\n",
       "      <th></th>\n",
       "      <th>id</th>\n",
       "      <th>parent_id</th>\n",
       "      <th>child_id</th>\n",
       "      <th>distance</th>\n",
       "    </tr>\n",
       "  </thead>\n",
       "  <tbody>\n",
       "    <tr>\n",
       "      <th>287136</th>\n",
       "      <td>604625</td>\n",
       "      <td>64858</td>\n",
       "      <td>54454</td>\n",
       "      <td>4</td>\n",
       "    </tr>\n",
       "    <tr>\n",
       "      <th>303531</th>\n",
       "      <td>621966</td>\n",
       "      <td>66124</td>\n",
       "      <td>67837</td>\n",
       "      <td>2</td>\n",
       "    </tr>\n",
       "    <tr>\n",
       "      <th>406263</th>\n",
       "      <td>729099</td>\n",
       "      <td>90807</td>\n",
       "      <td>90807</td>\n",
       "      <td>0</td>\n",
       "    </tr>\n",
       "    <tr>\n",
       "      <th>323574</th>\n",
       "      <td>643389</td>\n",
       "      <td>30</td>\n",
       "      <td>72239</td>\n",
       "      <td>5</td>\n",
       "    </tr>\n",
       "    <tr>\n",
       "      <th>59273</th>\n",
       "      <td>366796</td>\n",
       "      <td>4147</td>\n",
       "      <td>4214</td>\n",
       "      <td>4</td>\n",
       "    </tr>\n",
       "  </tbody>\n",
       "</table>\n",
       "</div>"
      ],
      "text/plain": [
       "            id  parent_id  child_id  distance\n",
       "287136  604625      64858     54454         4\n",
       "303531  621966      66124     67837         2\n",
       "406263  729099      90807     90807         0\n",
       "323574  643389         30     72239         5\n",
       "59273   366796       4147      4214         4"
      ]
     },
     "execution_count": 12,
     "metadata": {},
     "output_type": "execute_result"
    }
   ],
   "source": [
    "eventadjacency_RDF.sample(5)"
   ]
  },
  {
   "cell_type": "markdown",
   "metadata": {},
   "source": [
    "Lets keep exploring."
   ]
  },
  {
   "cell_type": "code",
   "execution_count": 13,
   "metadata": {},
   "outputs": [
    {
     "name": "stdout",
     "output_type": "stream",
     "text": [
      "<class 'pandas.core.frame.DataFrame'>\n",
      "RangeIndex: 401961 entries, 0 to 401960\n",
      "Data columns (total 11 columns):\n",
      " #   Column       Non-Null Count   Dtype  \n",
      "---  ------       --------------   -----  \n",
      " 0   date         401961 non-null  object \n",
      " 1   pla_id       401961 non-null  int64  \n",
      " 2   plb_id       401961 non-null  int64  \n",
      " 3   sca          401961 non-null  int64  \n",
      " 4   scb          401961 non-null  int64  \n",
      " 5   event        35241 non-null   object \n",
      " 6   eventobj_id  398957 non-null  float64\n",
      " 7   game         401961 non-null  object \n",
      " 8   offline      401961 non-null  object \n",
      " 9   rta_id       383824 non-null  float64\n",
      " 10  rtb_id       376194 non-null  float64\n",
      "dtypes: float64(3), int64(4), object(4)\n",
      "memory usage: 33.7+ MB\n"
     ]
    }
   ],
   "source": [
    "# explore and clean matches\n",
    "matches_RDF.drop(['id', 'period_id', 'rca', 'rcb', 'treated', 'submitter_id'], axis=1, inplace=True)\n",
    "matches_RDF.info()"
   ]
  },
  {
   "cell_type": "code",
   "execution_count": 14,
   "metadata": {
    "tags": []
   },
   "outputs": [
    {
     "data": {
      "text/html": [
       "<div>\n",
       "<style scoped>\n",
       "    .dataframe tbody tr th:only-of-type {\n",
       "        vertical-align: middle;\n",
       "    }\n",
       "\n",
       "    .dataframe tbody tr th {\n",
       "        vertical-align: top;\n",
       "    }\n",
       "\n",
       "    .dataframe thead th {\n",
       "        text-align: right;\n",
       "    }\n",
       "</style>\n",
       "<table border=\"1\" class=\"dataframe\">\n",
       "  <thead>\n",
       "    <tr style=\"text-align: right;\">\n",
       "      <th></th>\n",
       "      <th>date</th>\n",
       "      <th>pla_id</th>\n",
       "      <th>plb_id</th>\n",
       "      <th>sca</th>\n",
       "      <th>scb</th>\n",
       "      <th>event</th>\n",
       "      <th>eventobj_id</th>\n",
       "      <th>game</th>\n",
       "      <th>offline</th>\n",
       "      <th>rta_id</th>\n",
       "      <th>rtb_id</th>\n",
       "    </tr>\n",
       "  </thead>\n",
       "  <tbody>\n",
       "    <tr>\n",
       "      <th>100136</th>\n",
       "      <td>2022-01-10</td>\n",
       "      <td>20847</td>\n",
       "      <td>22387</td>\n",
       "      <td>0</td>\n",
       "      <td>2</td>\n",
       "      <td>NaN</td>\n",
       "      <td>127905.0</td>\n",
       "      <td>LotV</td>\n",
       "      <td>f</td>\n",
       "      <td>8035363.0</td>\n",
       "      <td>8036014.0</td>\n",
       "    </tr>\n",
       "    <tr>\n",
       "      <th>162482</th>\n",
       "      <td>2015-02-09</td>\n",
       "      <td>2517</td>\n",
       "      <td>6052</td>\n",
       "      <td>2</td>\n",
       "      <td>0</td>\n",
       "      <td>NaN</td>\n",
       "      <td>40716.0</td>\n",
       "      <td>HotS</td>\n",
       "      <td>f</td>\n",
       "      <td>5255144.0</td>\n",
       "      <td>5258246.0</td>\n",
       "    </tr>\n",
       "    <tr>\n",
       "      <th>240081</th>\n",
       "      <td>2013-03-19</td>\n",
       "      <td>1906</td>\n",
       "      <td>3427</td>\n",
       "      <td>1</td>\n",
       "      <td>0</td>\n",
       "      <td>NaN</td>\n",
       "      <td>23083.0</td>\n",
       "      <td>HotS</td>\n",
       "      <td>f</td>\n",
       "      <td>4810798.0</td>\n",
       "      <td>4812222.0</td>\n",
       "    </tr>\n",
       "    <tr>\n",
       "      <th>206981</th>\n",
       "      <td>2015-12-05</td>\n",
       "      <td>8575</td>\n",
       "      <td>1058</td>\n",
       "      <td>0</td>\n",
       "      <td>1</td>\n",
       "      <td>NaN</td>\n",
       "      <td>53124.0</td>\n",
       "      <td>LotV</td>\n",
       "      <td>f</td>\n",
       "      <td>5479943.0</td>\n",
       "      <td>5473445.0</td>\n",
       "    </tr>\n",
       "    <tr>\n",
       "      <th>82007</th>\n",
       "      <td>2018-05-12</td>\n",
       "      <td>15780</td>\n",
       "      <td>5380</td>\n",
       "      <td>1</td>\n",
       "      <td>0</td>\n",
       "      <td>NaN</td>\n",
       "      <td>82746.0</td>\n",
       "      <td>LotV</td>\n",
       "      <td>f</td>\n",
       "      <td>6294659.0</td>\n",
       "      <td>6285548.0</td>\n",
       "    </tr>\n",
       "  </tbody>\n",
       "</table>\n",
       "</div>"
      ],
      "text/plain": [
       "              date  pla_id  plb_id  sca  scb event  eventobj_id  game offline  \\\n",
       "100136  2022-01-10   20847   22387    0    2   NaN     127905.0  LotV       f   \n",
       "162482  2015-02-09    2517    6052    2    0   NaN      40716.0  HotS       f   \n",
       "240081  2013-03-19    1906    3427    1    0   NaN      23083.0  HotS       f   \n",
       "206981  2015-12-05    8575    1058    0    1   NaN      53124.0  LotV       f   \n",
       "82007   2018-05-12   15780    5380    1    0   NaN      82746.0  LotV       f   \n",
       "\n",
       "           rta_id     rtb_id  \n",
       "100136  8035363.0  8036014.0  \n",
       "162482  5255144.0  5258246.0  \n",
       "240081  4810798.0  4812222.0  \n",
       "206981  5479943.0  5473445.0  \n",
       "82007   6294659.0  6285548.0  "
      ]
     },
     "execution_count": 14,
     "metadata": {},
     "output_type": "execute_result"
    }
   ],
   "source": [
    "matches_RDF.sample(5)"
   ]
  },
  {
   "cell_type": "code",
   "execution_count": 15,
   "metadata": {},
   "outputs": [
    {
     "name": "stdout",
     "output_type": "stream",
     "text": [
      "<class 'pandas.core.frame.DataFrame'>\n",
      "RangeIndex: 21394 entries, 0 to 21393\n",
      "Data columns (total 6 columns):\n",
      " #   Column             Non-Null Count  Dtype  \n",
      "---  ------             --------------  -----  \n",
      " 0   tag                21393 non-null  object \n",
      " 1   name               4938 non-null   object \n",
      " 2   country            19029 non-null  object \n",
      " 3   race               21394 non-null  object \n",
      " 4   current_rating_id  21288 non-null  float64\n",
      " 5   romanized_name     1333 non-null   object \n",
      "dtypes: float64(1), object(5)\n",
      "memory usage: 1003.0+ KB\n"
     ]
    }
   ],
   "source": [
    "# explore and clean player\n",
    "players_RDF.drop(['id', 'birthday', 'mcnum', 'tlpd_id', \n",
    "                  'tlpd_db', 'dom_val', 'dom_start_id', \n",
    "                  'dom_end_id', 'lp_name', 'sc2e_id'], axis=1, inplace=True)\n",
    "players_RDF.info()"
   ]
  },
  {
   "cell_type": "code",
   "execution_count": 16,
   "metadata": {},
   "outputs": [
    {
     "data": {
      "text/html": [
       "<div>\n",
       "<style scoped>\n",
       "    .dataframe tbody tr th:only-of-type {\n",
       "        vertical-align: middle;\n",
       "    }\n",
       "\n",
       "    .dataframe tbody tr th {\n",
       "        vertical-align: top;\n",
       "    }\n",
       "\n",
       "    .dataframe thead th {\n",
       "        text-align: right;\n",
       "    }\n",
       "</style>\n",
       "<table border=\"1\" class=\"dataframe\">\n",
       "  <thead>\n",
       "    <tr style=\"text-align: right;\">\n",
       "      <th></th>\n",
       "      <th>tag</th>\n",
       "      <th>name</th>\n",
       "      <th>country</th>\n",
       "      <th>race</th>\n",
       "      <th>current_rating_id</th>\n",
       "      <th>romanized_name</th>\n",
       "    </tr>\n",
       "  </thead>\n",
       "  <tbody>\n",
       "    <tr>\n",
       "      <th>348</th>\n",
       "      <td>Matume</td>\n",
       "      <td>NaN</td>\n",
       "      <td>CZ</td>\n",
       "      <td>T</td>\n",
       "      <td>8209514.0</td>\n",
       "      <td>NaN</td>\n",
       "    </tr>\n",
       "    <tr>\n",
       "      <th>19349</th>\n",
       "      <td>poi</td>\n",
       "      <td>NaN</td>\n",
       "      <td>CN</td>\n",
       "      <td>P</td>\n",
       "      <td>8216472.0</td>\n",
       "      <td>NaN</td>\n",
       "    </tr>\n",
       "    <tr>\n",
       "      <th>9615</th>\n",
       "      <td>GuitarKing</td>\n",
       "      <td>NaN</td>\n",
       "      <td>LT</td>\n",
       "      <td>P</td>\n",
       "      <td>8228315.0</td>\n",
       "      <td>NaN</td>\n",
       "    </tr>\n",
       "    <tr>\n",
       "      <th>14056</th>\n",
       "      <td>Flood</td>\n",
       "      <td>Thomas Brenner</td>\n",
       "      <td>CA</td>\n",
       "      <td>Z</td>\n",
       "      <td>8207874.0</td>\n",
       "      <td>NaN</td>\n",
       "    </tr>\n",
       "    <tr>\n",
       "      <th>11474</th>\n",
       "      <td>McNel</td>\n",
       "      <td>NaN</td>\n",
       "      <td>NaN</td>\n",
       "      <td>R</td>\n",
       "      <td>8224436.0</td>\n",
       "      <td>NaN</td>\n",
       "    </tr>\n",
       "  </tbody>\n",
       "</table>\n",
       "</div>"
      ],
      "text/plain": [
       "              tag            name country race  current_rating_id  \\\n",
       "348        Matume             NaN      CZ    T          8209514.0   \n",
       "19349         poi             NaN      CN    P          8216472.0   \n",
       "9615   GuitarKing             NaN      LT    P          8228315.0   \n",
       "14056       Flood  Thomas Brenner      CA    Z          8207874.0   \n",
       "11474       McNel             NaN     NaN    R          8224436.0   \n",
       "\n",
       "      romanized_name  \n",
       "348              NaN  \n",
       "19349            NaN  \n",
       "9615             NaN  \n",
       "14056            NaN  \n",
       "11474            NaN  "
      ]
     },
     "execution_count": 16,
     "metadata": {},
     "output_type": "execute_result"
    }
   ],
   "source": [
    "players_RDF.sample(5)"
   ]
  },
  {
   "cell_type": "markdown",
   "metadata": {},
   "source": [
    "# In the next few cells, build the GSL dataframe.\n"
   ]
  },
  {
   "cell_type": "code",
   "execution_count": 17,
   "metadata": {},
   "outputs": [
    {
     "name": "stdout",
     "output_type": "stream",
     "text": [
      "GSL 2022 Season 1 Code S Group Stage 1 Group B\n",
      "GSL 2022 Season 1 Code S Group Stage 1 Group C\n",
      "GSL 2022 Season 1 Code S Playoffs Ro4\n",
      "GSL 2022 Season 1 Code S Playoffs Final\n",
      "GSL 2022 Season 1 Code S\n",
      "GSL 2022 Season 1 Code S Playoffs\n",
      "GSL 2022 Season 1 Code S Group Stage 2 Group B\n",
      "GSL 2022 Season 1 Code S Round of 6 Decider Match\n",
      "GSL 2022 Season 1 Code S Group Stage 1\n",
      "GSL 2022 Season 1 Code S Round of 6\n",
      "GSL 2022 Season 1 Code S Group Stage 2 Group A\n",
      "GSL 2022 Season 1 Code S Round of 6 2nd vs 2nd\n",
      "GSL 2022 Season 1 Code S Group Stage 1 Group E\n",
      "GSL 2022 Season 1 Code S Round of 6 3rd vs 3rd\n",
      "GSL 2022 Season 1 Code S Group Stage 2\n",
      "GSL 2022 Season 1 Code S Group Stage 1 Group A\n",
      "GSL 2022 Season 1 Code S Group Stage 1 Group D\n"
     ]
    }
   ],
   "source": [
    "# figure out the string that needs to be used to identify tournament\n",
    "code_s = []\n",
    "for event in events_RDF.fullname:\n",
    "    if 'GSL 2022 Season 1 Code S' in event:\n",
    "        print(event)"
   ]
  },
  {
   "cell_type": "code",
   "execution_count": 18,
   "metadata": {},
   "outputs": [],
   "source": [
    "# remove all events that are not GSL 2022 S1 Code S\n",
    "events_RDF['fullname_str'] = events_RDF['fullname'].map(str)  # needed to convert fullnames into strings, as they were not\n",
    "events_RDF = events_RDF[events_RDF['fullname'].str.contains('GSL 2022 Season 1 Code S')]"
   ]
  },
  {
   "cell_type": "code",
   "execution_count": 20,
   "metadata": {
    "tags": []
   },
   "outputs": [
    {
     "data": {
      "text/html": [
       "<div>\n",
       "<style scoped>\n",
       "    .dataframe tbody tr th:only-of-type {\n",
       "        vertical-align: middle;\n",
       "    }\n",
       "\n",
       "    .dataframe tbody tr th {\n",
       "        vertical-align: top;\n",
       "    }\n",
       "\n",
       "    .dataframe thead th {\n",
       "        text-align: right;\n",
       "    }\n",
       "</style>\n",
       "<table border=\"1\" class=\"dataframe\">\n",
       "  <thead>\n",
       "    <tr style=\"text-align: right;\">\n",
       "      <th></th>\n",
       "      <th>id</th>\n",
       "      <th>name</th>\n",
       "      <th>parent_id</th>\n",
       "      <th>fullname</th>\n",
       "      <th>prizepool</th>\n",
       "      <th>earliest</th>\n",
       "      <th>latest</th>\n",
       "      <th>category</th>\n",
       "      <th>type</th>\n",
       "      <th>idx</th>\n",
       "      <th>wcs_year</th>\n",
       "      <th>wcs_tier</th>\n",
       "      <th>fullname_str</th>\n",
       "    </tr>\n",
       "  </thead>\n",
       "  <tbody>\n",
       "    <tr>\n",
       "      <th>3548</th>\n",
       "      <td>129206</td>\n",
       "      <td>Group B</td>\n",
       "      <td>129201.0</td>\n",
       "      <td>GSL 2022 Season 1 Code S Group Stage 1 Group B</td>\n",
       "      <td>NaN</td>\n",
       "      <td>2022-03-24</td>\n",
       "      <td>2022-03-24</td>\n",
       "      <td>NaN</td>\n",
       "      <td>round</td>\n",
       "      <td>50704</td>\n",
       "      <td>NaN</td>\n",
       "      <td>NaN</td>\n",
       "      <td>GSL 2022 Season 1 Code S Group Stage 1 Group B</td>\n",
       "    </tr>\n",
       "    <tr>\n",
       "      <th>15853</th>\n",
       "      <td>129207</td>\n",
       "      <td>Group C</td>\n",
       "      <td>129201.0</td>\n",
       "      <td>GSL 2022 Season 1 Code S Group Stage 1 Group C</td>\n",
       "      <td>NaN</td>\n",
       "      <td>2022-03-28</td>\n",
       "      <td>2022-03-28</td>\n",
       "      <td>NaN</td>\n",
       "      <td>round</td>\n",
       "      <td>50705</td>\n",
       "      <td>NaN</td>\n",
       "      <td>NaN</td>\n",
       "      <td>GSL 2022 Season 1 Code S Group Stage 1 Group C</td>\n",
       "    </tr>\n",
       "    <tr>\n",
       "      <th>19159</th>\n",
       "      <td>130080</td>\n",
       "      <td>Ro4</td>\n",
       "      <td>129204.0</td>\n",
       "      <td>GSL 2022 Season 1 Code S Playoffs Ro4</td>\n",
       "      <td>NaN</td>\n",
       "      <td>2022-04-28</td>\n",
       "      <td>2022-04-28</td>\n",
       "      <td>NaN</td>\n",
       "      <td>round</td>\n",
       "      <td>50716</td>\n",
       "      <td>NaN</td>\n",
       "      <td>NaN</td>\n",
       "      <td>GSL 2022 Season 1 Code S Playoffs Ro4</td>\n",
       "    </tr>\n",
       "    <tr>\n",
       "      <th>19175</th>\n",
       "      <td>130081</td>\n",
       "      <td>Final</td>\n",
       "      <td>129204.0</td>\n",
       "      <td>GSL 2022 Season 1 Code S Playoffs Final</td>\n",
       "      <td>NaN</td>\n",
       "      <td>NaN</td>\n",
       "      <td>NaN</td>\n",
       "      <td>NaN</td>\n",
       "      <td>round</td>\n",
       "      <td>50717</td>\n",
       "      <td>NaN</td>\n",
       "      <td>NaN</td>\n",
       "      <td>GSL 2022 Season 1 Code S Playoffs Final</td>\n",
       "    </tr>\n",
       "    <tr>\n",
       "      <th>22386</th>\n",
       "      <td>128736</td>\n",
       "      <td>Code S</td>\n",
       "      <td>128734.0</td>\n",
       "      <td>GSL 2022 Season 1 Code S</td>\n",
       "      <td>t</td>\n",
       "      <td>2022-03-21</td>\n",
       "      <td>2022-04-28</td>\n",
       "      <td>NaN</td>\n",
       "      <td>event</td>\n",
       "      <td>50701</td>\n",
       "      <td>NaN</td>\n",
       "      <td>NaN</td>\n",
       "      <td>GSL 2022 Season 1 Code S</td>\n",
       "    </tr>\n",
       "    <tr>\n",
       "      <th>27070</th>\n",
       "      <td>129204</td>\n",
       "      <td>Playoffs</td>\n",
       "      <td>128736.0</td>\n",
       "      <td>GSL 2022 Season 1 Code S Playoffs</td>\n",
       "      <td>NaN</td>\n",
       "      <td>2022-04-28</td>\n",
       "      <td>2022-04-28</td>\n",
       "      <td>NaN</td>\n",
       "      <td>round</td>\n",
       "      <td>50715</td>\n",
       "      <td>NaN</td>\n",
       "      <td>NaN</td>\n",
       "      <td>GSL 2022 Season 1 Code S Playoffs</td>\n",
       "    </tr>\n",
       "    <tr>\n",
       "      <th>42036</th>\n",
       "      <td>129635</td>\n",
       "      <td>Group B</td>\n",
       "      <td>129202.0</td>\n",
       "      <td>GSL 2022 Season 1 Code S Group Stage 2 Group B</td>\n",
       "      <td>NaN</td>\n",
       "      <td>2022-04-14</td>\n",
       "      <td>2022-04-21</td>\n",
       "      <td>NaN</td>\n",
       "      <td>round</td>\n",
       "      <td>50710</td>\n",
       "      <td>NaN</td>\n",
       "      <td>NaN</td>\n",
       "      <td>GSL 2022 Season 1 Code S Group Stage 2 Group B</td>\n",
       "    </tr>\n",
       "    <tr>\n",
       "      <th>49301</th>\n",
       "      <td>130013</td>\n",
       "      <td>Decider Match</td>\n",
       "      <td>129203.0</td>\n",
       "      <td>GSL 2022 Season 1 Code S Round of 6 Decider Match</td>\n",
       "      <td>NaN</td>\n",
       "      <td>2022-04-25</td>\n",
       "      <td>2022-04-25</td>\n",
       "      <td>NaN</td>\n",
       "      <td>round</td>\n",
       "      <td>50714</td>\n",
       "      <td>NaN</td>\n",
       "      <td>NaN</td>\n",
       "      <td>GSL 2022 Season 1 Code S Round of 6 Decider Match</td>\n",
       "    </tr>\n",
       "    <tr>\n",
       "      <th>56755</th>\n",
       "      <td>129201</td>\n",
       "      <td>Group Stage 1</td>\n",
       "      <td>128736.0</td>\n",
       "      <td>GSL 2022 Season 1 Code S Group Stage 1</td>\n",
       "      <td>NaN</td>\n",
       "      <td>2022-03-21</td>\n",
       "      <td>2022-04-04</td>\n",
       "      <td>NaN</td>\n",
       "      <td>round</td>\n",
       "      <td>50702</td>\n",
       "      <td>NaN</td>\n",
       "      <td>NaN</td>\n",
       "      <td>GSL 2022 Season 1 Code S Group Stage 1</td>\n",
       "    </tr>\n",
       "    <tr>\n",
       "      <th>60896</th>\n",
       "      <td>129203</td>\n",
       "      <td>Round of 6</td>\n",
       "      <td>128736.0</td>\n",
       "      <td>GSL 2022 Season 1 Code S Round of 6</td>\n",
       "      <td>NaN</td>\n",
       "      <td>2022-04-25</td>\n",
       "      <td>2022-04-25</td>\n",
       "      <td>NaN</td>\n",
       "      <td>round</td>\n",
       "      <td>50711</td>\n",
       "      <td>NaN</td>\n",
       "      <td>NaN</td>\n",
       "      <td>GSL 2022 Season 1 Code S Round of 6</td>\n",
       "    </tr>\n",
       "    <tr>\n",
       "      <th>61422</th>\n",
       "      <td>129634</td>\n",
       "      <td>Group A</td>\n",
       "      <td>129202.0</td>\n",
       "      <td>GSL 2022 Season 1 Code S Group Stage 2 Group A</td>\n",
       "      <td>NaN</td>\n",
       "      <td>2022-04-11</td>\n",
       "      <td>2022-04-18</td>\n",
       "      <td>NaN</td>\n",
       "      <td>round</td>\n",
       "      <td>50709</td>\n",
       "      <td>NaN</td>\n",
       "      <td>NaN</td>\n",
       "      <td>GSL 2022 Season 1 Code S Group Stage 2 Group A</td>\n",
       "    </tr>\n",
       "    <tr>\n",
       "      <th>61555</th>\n",
       "      <td>130011</td>\n",
       "      <td>2nd vs 2nd</td>\n",
       "      <td>129203.0</td>\n",
       "      <td>GSL 2022 Season 1 Code S Round of 6 2nd vs 2nd</td>\n",
       "      <td>NaN</td>\n",
       "      <td>2022-04-25</td>\n",
       "      <td>2022-04-25</td>\n",
       "      <td>NaN</td>\n",
       "      <td>round</td>\n",
       "      <td>50712</td>\n",
       "      <td>NaN</td>\n",
       "      <td>NaN</td>\n",
       "      <td>GSL 2022 Season 1 Code S Round of 6 2nd vs 2nd</td>\n",
       "    </tr>\n",
       "    <tr>\n",
       "      <th>95635</th>\n",
       "      <td>129209</td>\n",
       "      <td>Group E</td>\n",
       "      <td>129201.0</td>\n",
       "      <td>GSL 2022 Season 1 Code S Group Stage 1 Group E</td>\n",
       "      <td>NaN</td>\n",
       "      <td>2022-04-04</td>\n",
       "      <td>2022-04-04</td>\n",
       "      <td>NaN</td>\n",
       "      <td>round</td>\n",
       "      <td>50707</td>\n",
       "      <td>NaN</td>\n",
       "      <td>NaN</td>\n",
       "      <td>GSL 2022 Season 1 Code S Group Stage 1 Group E</td>\n",
       "    </tr>\n",
       "    <tr>\n",
       "      <th>98165</th>\n",
       "      <td>130012</td>\n",
       "      <td>3rd vs 3rd</td>\n",
       "      <td>129203.0</td>\n",
       "      <td>GSL 2022 Season 1 Code S Round of 6 3rd vs 3rd</td>\n",
       "      <td>NaN</td>\n",
       "      <td>2022-04-25</td>\n",
       "      <td>2022-04-25</td>\n",
       "      <td>NaN</td>\n",
       "      <td>round</td>\n",
       "      <td>50713</td>\n",
       "      <td>NaN</td>\n",
       "      <td>NaN</td>\n",
       "      <td>GSL 2022 Season 1 Code S Round of 6 3rd vs 3rd</td>\n",
       "    </tr>\n",
       "    <tr>\n",
       "      <th>105843</th>\n",
       "      <td>129202</td>\n",
       "      <td>Group Stage 2</td>\n",
       "      <td>128736.0</td>\n",
       "      <td>GSL 2022 Season 1 Code S Group Stage 2</td>\n",
       "      <td>NaN</td>\n",
       "      <td>2022-04-11</td>\n",
       "      <td>2022-04-21</td>\n",
       "      <td>NaN</td>\n",
       "      <td>round</td>\n",
       "      <td>50708</td>\n",
       "      <td>NaN</td>\n",
       "      <td>NaN</td>\n",
       "      <td>GSL 2022 Season 1 Code S Group Stage 2</td>\n",
       "    </tr>\n",
       "    <tr>\n",
       "      <th>108202</th>\n",
       "      <td>129205</td>\n",
       "      <td>Group A</td>\n",
       "      <td>129201.0</td>\n",
       "      <td>GSL 2022 Season 1 Code S Group Stage 1 Group A</td>\n",
       "      <td>NaN</td>\n",
       "      <td>2022-03-21</td>\n",
       "      <td>2022-03-21</td>\n",
       "      <td>NaN</td>\n",
       "      <td>round</td>\n",
       "      <td>50703</td>\n",
       "      <td>NaN</td>\n",
       "      <td>NaN</td>\n",
       "      <td>GSL 2022 Season 1 Code S Group Stage 1 Group A</td>\n",
       "    </tr>\n",
       "    <tr>\n",
       "      <th>116822</th>\n",
       "      <td>129208</td>\n",
       "      <td>Group D</td>\n",
       "      <td>129201.0</td>\n",
       "      <td>GSL 2022 Season 1 Code S Group Stage 1 Group D</td>\n",
       "      <td>NaN</td>\n",
       "      <td>2022-03-31</td>\n",
       "      <td>2022-03-31</td>\n",
       "      <td>NaN</td>\n",
       "      <td>round</td>\n",
       "      <td>50706</td>\n",
       "      <td>NaN</td>\n",
       "      <td>NaN</td>\n",
       "      <td>GSL 2022 Season 1 Code S Group Stage 1 Group D</td>\n",
       "    </tr>\n",
       "  </tbody>\n",
       "</table>\n",
       "</div>"
      ],
      "text/plain": [
       "            id           name  parent_id  \\\n",
       "3548    129206        Group B   129201.0   \n",
       "15853   129207        Group C   129201.0   \n",
       "19159   130080            Ro4   129204.0   \n",
       "19175   130081          Final   129204.0   \n",
       "22386   128736         Code S   128734.0   \n",
       "27070   129204       Playoffs   128736.0   \n",
       "42036   129635        Group B   129202.0   \n",
       "49301   130013  Decider Match   129203.0   \n",
       "56755   129201  Group Stage 1   128736.0   \n",
       "60896   129203     Round of 6   128736.0   \n",
       "61422   129634        Group A   129202.0   \n",
       "61555   130011     2nd vs 2nd   129203.0   \n",
       "95635   129209        Group E   129201.0   \n",
       "98165   130012     3rd vs 3rd   129203.0   \n",
       "105843  129202  Group Stage 2   128736.0   \n",
       "108202  129205        Group A   129201.0   \n",
       "116822  129208        Group D   129201.0   \n",
       "\n",
       "                                                 fullname prizepool  \\\n",
       "3548       GSL 2022 Season 1 Code S Group Stage 1 Group B       NaN   \n",
       "15853      GSL 2022 Season 1 Code S Group Stage 1 Group C       NaN   \n",
       "19159               GSL 2022 Season 1 Code S Playoffs Ro4       NaN   \n",
       "19175             GSL 2022 Season 1 Code S Playoffs Final       NaN   \n",
       "22386                            GSL 2022 Season 1 Code S         t   \n",
       "27070                   GSL 2022 Season 1 Code S Playoffs       NaN   \n",
       "42036      GSL 2022 Season 1 Code S Group Stage 2 Group B       NaN   \n",
       "49301   GSL 2022 Season 1 Code S Round of 6 Decider Match       NaN   \n",
       "56755              GSL 2022 Season 1 Code S Group Stage 1       NaN   \n",
       "60896                 GSL 2022 Season 1 Code S Round of 6       NaN   \n",
       "61422      GSL 2022 Season 1 Code S Group Stage 2 Group A       NaN   \n",
       "61555      GSL 2022 Season 1 Code S Round of 6 2nd vs 2nd       NaN   \n",
       "95635      GSL 2022 Season 1 Code S Group Stage 1 Group E       NaN   \n",
       "98165      GSL 2022 Season 1 Code S Round of 6 3rd vs 3rd       NaN   \n",
       "105843             GSL 2022 Season 1 Code S Group Stage 2       NaN   \n",
       "108202     GSL 2022 Season 1 Code S Group Stage 1 Group A       NaN   \n",
       "116822     GSL 2022 Season 1 Code S Group Stage 1 Group D       NaN   \n",
       "\n",
       "          earliest      latest category   type    idx  wcs_year  wcs_tier  \\\n",
       "3548    2022-03-24  2022-03-24      NaN  round  50704       NaN       NaN   \n",
       "15853   2022-03-28  2022-03-28      NaN  round  50705       NaN       NaN   \n",
       "19159   2022-04-28  2022-04-28      NaN  round  50716       NaN       NaN   \n",
       "19175          NaN         NaN      NaN  round  50717       NaN       NaN   \n",
       "22386   2022-03-21  2022-04-28      NaN  event  50701       NaN       NaN   \n",
       "27070   2022-04-28  2022-04-28      NaN  round  50715       NaN       NaN   \n",
       "42036   2022-04-14  2022-04-21      NaN  round  50710       NaN       NaN   \n",
       "49301   2022-04-25  2022-04-25      NaN  round  50714       NaN       NaN   \n",
       "56755   2022-03-21  2022-04-04      NaN  round  50702       NaN       NaN   \n",
       "60896   2022-04-25  2022-04-25      NaN  round  50711       NaN       NaN   \n",
       "61422   2022-04-11  2022-04-18      NaN  round  50709       NaN       NaN   \n",
       "61555   2022-04-25  2022-04-25      NaN  round  50712       NaN       NaN   \n",
       "95635   2022-04-04  2022-04-04      NaN  round  50707       NaN       NaN   \n",
       "98165   2022-04-25  2022-04-25      NaN  round  50713       NaN       NaN   \n",
       "105843  2022-04-11  2022-04-21      NaN  round  50708       NaN       NaN   \n",
       "108202  2022-03-21  2022-03-21      NaN  round  50703       NaN       NaN   \n",
       "116822  2022-03-31  2022-03-31      NaN  round  50706       NaN       NaN   \n",
       "\n",
       "                                             fullname_str  \n",
       "3548       GSL 2022 Season 1 Code S Group Stage 1 Group B  \n",
       "15853      GSL 2022 Season 1 Code S Group Stage 1 Group C  \n",
       "19159               GSL 2022 Season 1 Code S Playoffs Ro4  \n",
       "19175             GSL 2022 Season 1 Code S Playoffs Final  \n",
       "22386                            GSL 2022 Season 1 Code S  \n",
       "27070                   GSL 2022 Season 1 Code S Playoffs  \n",
       "42036      GSL 2022 Season 1 Code S Group Stage 2 Group B  \n",
       "49301   GSL 2022 Season 1 Code S Round of 6 Decider Match  \n",
       "56755              GSL 2022 Season 1 Code S Group Stage 1  \n",
       "60896                 GSL 2022 Season 1 Code S Round of 6  \n",
       "61422      GSL 2022 Season 1 Code S Group Stage 2 Group A  \n",
       "61555      GSL 2022 Season 1 Code S Round of 6 2nd vs 2nd  \n",
       "95635      GSL 2022 Season 1 Code S Group Stage 1 Group E  \n",
       "98165      GSL 2022 Season 1 Code S Round of 6 3rd vs 3rd  \n",
       "105843             GSL 2022 Season 1 Code S Group Stage 2  \n",
       "108202     GSL 2022 Season 1 Code S Group Stage 1 Group A  \n",
       "116822     GSL 2022 Season 1 Code S Group Stage 1 Group D  "
      ]
     },
     "execution_count": 20,
     "metadata": {},
     "output_type": "execute_result"
    }
   ],
   "source": [
    "events_RDF"
   ]
  },
  {
   "cell_type": "code",
   "execution_count": 22,
   "metadata": {},
   "outputs": [
    {
     "data": {
      "text/html": [
       "<div>\n",
       "<style scoped>\n",
       "    .dataframe tbody tr th:only-of-type {\n",
       "        vertical-align: middle;\n",
       "    }\n",
       "\n",
       "    .dataframe tbody tr th {\n",
       "        vertical-align: top;\n",
       "    }\n",
       "\n",
       "    .dataframe thead th {\n",
       "        text-align: right;\n",
       "    }\n",
       "</style>\n",
       "<table border=\"1\" class=\"dataframe\">\n",
       "  <thead>\n",
       "    <tr style=\"text-align: right;\">\n",
       "      <th></th>\n",
       "      <th>date</th>\n",
       "      <th>pla_id</th>\n",
       "      <th>plb_id</th>\n",
       "      <th>sca</th>\n",
       "      <th>scb</th>\n",
       "      <th>event</th>\n",
       "      <th>eventobj_id</th>\n",
       "      <th>game</th>\n",
       "      <th>offline</th>\n",
       "      <th>rta_id</th>\n",
       "      <th>rtb_id</th>\n",
       "    </tr>\n",
       "  </thead>\n",
       "  <tbody>\n",
       "    <tr>\n",
       "      <th>0</th>\n",
       "      <td>2016-07-24</td>\n",
       "      <td>422</td>\n",
       "      <td>2102</td>\n",
       "      <td>3</td>\n",
       "      <td>1</td>\n",
       "      <td>NaN</td>\n",
       "      <td>59979.0</td>\n",
       "      <td>LotV</td>\n",
       "      <td>t</td>\n",
       "      <td>5666026.0</td>\n",
       "      <td>5667543.0</td>\n",
       "    </tr>\n",
       "    <tr>\n",
       "      <th>1</th>\n",
       "      <td>2016-07-31</td>\n",
       "      <td>962</td>\n",
       "      <td>12662</td>\n",
       "      <td>1</td>\n",
       "      <td>0</td>\n",
       "      <td>NaN</td>\n",
       "      <td>60184.0</td>\n",
       "      <td>LotV</td>\n",
       "      <td>f</td>\n",
       "      <td>5666535.0</td>\n",
       "      <td>5676810.0</td>\n",
       "    </tr>\n",
       "    <tr>\n",
       "      <th>2</th>\n",
       "      <td>2016-07-25</td>\n",
       "      <td>61</td>\n",
       "      <td>4551</td>\n",
       "      <td>0</td>\n",
       "      <td>2</td>\n",
       "      <td>NaN</td>\n",
       "      <td>60005.0</td>\n",
       "      <td>LotV</td>\n",
       "      <td>f</td>\n",
       "      <td>5665673.0</td>\n",
       "      <td>5669668.0</td>\n",
       "    </tr>\n",
       "    <tr>\n",
       "      <th>3</th>\n",
       "      <td>2010-03-13</td>\n",
       "      <td>208</td>\n",
       "      <td>1218</td>\n",
       "      <td>4</td>\n",
       "      <td>2</td>\n",
       "      <td>NaN</td>\n",
       "      <td>7311.0</td>\n",
       "      <td>WoL</td>\n",
       "      <td>f</td>\n",
       "      <td>NaN</td>\n",
       "      <td>1370384.0</td>\n",
       "    </tr>\n",
       "    <tr>\n",
       "      <th>4</th>\n",
       "      <td>2016-08-01</td>\n",
       "      <td>1100</td>\n",
       "      <td>10298</td>\n",
       "      <td>2</td>\n",
       "      <td>1</td>\n",
       "      <td>NaN</td>\n",
       "      <td>60235.0</td>\n",
       "      <td>LotV</td>\n",
       "      <td>f</td>\n",
       "      <td>5666661.0</td>\n",
       "      <td>5674632.0</td>\n",
       "    </tr>\n",
       "    <tr>\n",
       "      <th>...</th>\n",
       "      <td>...</td>\n",
       "      <td>...</td>\n",
       "      <td>...</td>\n",
       "      <td>...</td>\n",
       "      <td>...</td>\n",
       "      <td>...</td>\n",
       "      <td>...</td>\n",
       "      <td>...</td>\n",
       "      <td>...</td>\n",
       "      <td>...</td>\n",
       "      <td>...</td>\n",
       "    </tr>\n",
       "    <tr>\n",
       "      <th>401956</th>\n",
       "      <td>2020-05-29</td>\n",
       "      <td>68</td>\n",
       "      <td>20275</td>\n",
       "      <td>2</td>\n",
       "      <td>1</td>\n",
       "      <td>NaN</td>\n",
       "      <td>109833.0</td>\n",
       "      <td>LotV</td>\n",
       "      <td>f</td>\n",
       "      <td>7180448.0</td>\n",
       "      <td>7180509.0</td>\n",
       "    </tr>\n",
       "    <tr>\n",
       "      <th>401957</th>\n",
       "      <td>2020-05-29</td>\n",
       "      <td>4134</td>\n",
       "      <td>1652</td>\n",
       "      <td>1</td>\n",
       "      <td>2</td>\n",
       "      <td>NaN</td>\n",
       "      <td>109833.0</td>\n",
       "      <td>LotV</td>\n",
       "      <td>f</td>\n",
       "      <td>7177379.0</td>\n",
       "      <td>7177365.0</td>\n",
       "    </tr>\n",
       "    <tr>\n",
       "      <th>401958</th>\n",
       "      <td>2020-05-29</td>\n",
       "      <td>229</td>\n",
       "      <td>13223</td>\n",
       "      <td>2</td>\n",
       "      <td>1</td>\n",
       "      <td>NaN</td>\n",
       "      <td>109833.0</td>\n",
       "      <td>LotV</td>\n",
       "      <td>f</td>\n",
       "      <td>7169496.0</td>\n",
       "      <td>7180666.0</td>\n",
       "    </tr>\n",
       "    <tr>\n",
       "      <th>401959</th>\n",
       "      <td>2020-05-29</td>\n",
       "      <td>422</td>\n",
       "      <td>13890</td>\n",
       "      <td>2</td>\n",
       "      <td>0</td>\n",
       "      <td>NaN</td>\n",
       "      <td>109833.0</td>\n",
       "      <td>LotV</td>\n",
       "      <td>f</td>\n",
       "      <td>7169511.0</td>\n",
       "      <td>7177439.0</td>\n",
       "    </tr>\n",
       "    <tr>\n",
       "      <th>401960</th>\n",
       "      <td>2020-05-29</td>\n",
       "      <td>2566</td>\n",
       "      <td>20915</td>\n",
       "      <td>2</td>\n",
       "      <td>0</td>\n",
       "      <td>NaN</td>\n",
       "      <td>109833.0</td>\n",
       "      <td>LotV</td>\n",
       "      <td>f</td>\n",
       "      <td>7180438.0</td>\n",
       "      <td>7206656.0</td>\n",
       "    </tr>\n",
       "  </tbody>\n",
       "</table>\n",
       "<p>401961 rows × 11 columns</p>\n",
       "</div>"
      ],
      "text/plain": [
       "              date  pla_id  plb_id  sca  scb event  eventobj_id  game offline  \\\n",
       "0       2016-07-24     422    2102    3    1   NaN      59979.0  LotV       t   \n",
       "1       2016-07-31     962   12662    1    0   NaN      60184.0  LotV       f   \n",
       "2       2016-07-25      61    4551    0    2   NaN      60005.0  LotV       f   \n",
       "3       2010-03-13     208    1218    4    2   NaN       7311.0   WoL       f   \n",
       "4       2016-08-01    1100   10298    2    1   NaN      60235.0  LotV       f   \n",
       "...            ...     ...     ...  ...  ...   ...          ...   ...     ...   \n",
       "401956  2020-05-29      68   20275    2    1   NaN     109833.0  LotV       f   \n",
       "401957  2020-05-29    4134    1652    1    2   NaN     109833.0  LotV       f   \n",
       "401958  2020-05-29     229   13223    2    1   NaN     109833.0  LotV       f   \n",
       "401959  2020-05-29     422   13890    2    0   NaN     109833.0  LotV       f   \n",
       "401960  2020-05-29    2566   20915    2    0   NaN     109833.0  LotV       f   \n",
       "\n",
       "           rta_id     rtb_id  \n",
       "0       5666026.0  5667543.0  \n",
       "1       5666535.0  5676810.0  \n",
       "2       5665673.0  5669668.0  \n",
       "3             NaN  1370384.0  \n",
       "4       5666661.0  5674632.0  \n",
       "...           ...        ...  \n",
       "401956  7180448.0  7180509.0  \n",
       "401957  7177379.0  7177365.0  \n",
       "401958  7169496.0  7180666.0  \n",
       "401959  7169511.0  7177439.0  \n",
       "401960  7180438.0  7206656.0  \n",
       "\n",
       "[401961 rows x 11 columns]"
      ]
     },
     "execution_count": 22,
     "metadata": {},
     "output_type": "execute_result"
    }
   ],
   "source": [
    "matches_RDF"
   ]
  },
  {
   "cell_type": "code",
   "execution_count": null,
   "metadata": {
    "tags": []
   },
   "outputs": [],
   "source": [
    "import jovian"
   ]
  },
  {
   "cell_type": "code",
   "execution_count": null,
   "metadata": {},
   "outputs": [],
   "source": [
    "jovian.commit()"
   ]
  },
  {
   "cell_type": "markdown",
   "metadata": {},
   "source": [
    "## Exploratory Analysis and Visualization\n",
    "\n",
    "**TODO** - write some explanation here.\n",
    "\n"
   ]
  },
  {
   "cell_type": "markdown",
   "metadata": {},
   "source": [
    "> Instructions (delete this cell)\n",
    "> \n",
    "> - Compute the mean, sum, range and other interesting statistics for numeric columns\n",
    "> - Explore distributions of numeric columns using histograms etc.\n",
    "> - Explore relationship between columns using scatter plots, bar charts etc.\n",
    "> - Make a note of interesting insights from the exploratory analysis"
   ]
  },
  {
   "cell_type": "markdown",
   "metadata": {},
   "source": [
    "Let's begin by importing`matplotlib.pyplot` and `seaborn`."
   ]
  },
  {
   "cell_type": "code",
   "execution_count": null,
   "metadata": {},
   "outputs": [],
   "source": [
    "import seaborn as sns\n",
    "import matplotlib\n",
    "import matplotlib.pyplot as plt\n",
    "%matplotlib inline\n",
    "\n",
    "sns.set_style('darkgrid')\n",
    "matplotlib.rcParams['font.size'] = 14\n",
    "matplotlib.rcParams['figure.figsize'] = (9, 5)\n",
    "matplotlib.rcParams['figure.facecolor'] = '#00000000'"
   ]
  },
  {
   "cell_type": "markdown",
   "metadata": {},
   "source": [
    "**TODO** - Explore one or more columns by plotting a graph below, and add some explanation about it"
   ]
  },
  {
   "cell_type": "code",
   "execution_count": null,
   "metadata": {},
   "outputs": [],
   "source": []
  },
  {
   "cell_type": "code",
   "execution_count": null,
   "metadata": {},
   "outputs": [],
   "source": []
  },
  {
   "cell_type": "markdown",
   "metadata": {},
   "source": [
    "**TODO** - Explore one or more columns by plotting a graph below, and add some explanation about it"
   ]
  },
  {
   "cell_type": "code",
   "execution_count": null,
   "metadata": {},
   "outputs": [],
   "source": []
  },
  {
   "cell_type": "code",
   "execution_count": null,
   "metadata": {},
   "outputs": [],
   "source": []
  },
  {
   "cell_type": "markdown",
   "metadata": {},
   "source": [
    "**TODO** - Explore one or more columns by plotting a graph below, and add some explanation about it"
   ]
  },
  {
   "cell_type": "code",
   "execution_count": null,
   "metadata": {},
   "outputs": [],
   "source": []
  },
  {
   "cell_type": "code",
   "execution_count": null,
   "metadata": {},
   "outputs": [],
   "source": []
  },
  {
   "cell_type": "markdown",
   "metadata": {},
   "source": [
    "**TODO** - Explore one or more columns by plotting a graph below, and add some explanation about it"
   ]
  },
  {
   "cell_type": "code",
   "execution_count": null,
   "metadata": {},
   "outputs": [],
   "source": []
  },
  {
   "cell_type": "code",
   "execution_count": null,
   "metadata": {},
   "outputs": [],
   "source": []
  },
  {
   "cell_type": "markdown",
   "metadata": {},
   "source": [
    "**TODO** - Explore one or more columns by plotting a graph below, and add some explanation about it"
   ]
  },
  {
   "cell_type": "code",
   "execution_count": null,
   "metadata": {},
   "outputs": [],
   "source": []
  },
  {
   "cell_type": "code",
   "execution_count": null,
   "metadata": {},
   "outputs": [],
   "source": []
  },
  {
   "cell_type": "markdown",
   "metadata": {},
   "source": [
    "Let us save and upload our work to Jovian before continuing"
   ]
  },
  {
   "cell_type": "code",
   "execution_count": null,
   "metadata": {},
   "outputs": [],
   "source": [
    "import jovian"
   ]
  },
  {
   "cell_type": "code",
   "execution_count": null,
   "metadata": {},
   "outputs": [],
   "source": [
    "jovian.commit()"
   ]
  },
  {
   "cell_type": "markdown",
   "metadata": {},
   "source": [
    "## Asking and Answering Questions\n",
    "\n",
    "TODO - write some explanation here.\n",
    "\n"
   ]
  },
  {
   "cell_type": "markdown",
   "metadata": {},
   "source": [
    "> Instructions (delete this cell)\n",
    ">\n",
    "> - Ask at least 5 interesting questions about your dataset\n",
    "> - Answer the questions either by computing the results using Numpy/Pandas or by plotting graphs using Matplotlib/Seaborn\n",
    "> - Create new columns, merge multiple dataset and perform grouping/aggregation wherever necessary\n",
    "> - Wherever you're using a library function from Pandas/Numpy/Matplotlib etc. explain briefly what it does\n",
    "\n"
   ]
  },
  {
   "cell_type": "markdown",
   "metadata": {},
   "source": [
    "#### Q1: TODO - ask a question here and answer it below"
   ]
  },
  {
   "cell_type": "code",
   "execution_count": null,
   "metadata": {},
   "outputs": [],
   "source": []
  },
  {
   "cell_type": "code",
   "execution_count": null,
   "metadata": {},
   "outputs": [],
   "source": []
  },
  {
   "cell_type": "code",
   "execution_count": null,
   "metadata": {},
   "outputs": [],
   "source": []
  },
  {
   "cell_type": "markdown",
   "metadata": {},
   "source": [
    "#### Q2: TODO - ask a question here and answer it below"
   ]
  },
  {
   "cell_type": "code",
   "execution_count": null,
   "metadata": {},
   "outputs": [],
   "source": []
  },
  {
   "cell_type": "code",
   "execution_count": null,
   "metadata": {},
   "outputs": [],
   "source": []
  },
  {
   "cell_type": "code",
   "execution_count": null,
   "metadata": {},
   "outputs": [],
   "source": []
  },
  {
   "cell_type": "markdown",
   "metadata": {},
   "source": [
    "#### Q3: TODO - ask a question here and answer it below"
   ]
  },
  {
   "cell_type": "code",
   "execution_count": null,
   "metadata": {},
   "outputs": [],
   "source": []
  },
  {
   "cell_type": "code",
   "execution_count": null,
   "metadata": {},
   "outputs": [],
   "source": []
  },
  {
   "cell_type": "code",
   "execution_count": null,
   "metadata": {},
   "outputs": [],
   "source": []
  },
  {
   "cell_type": "markdown",
   "metadata": {},
   "source": [
    "#### Q4: TODO - ask a question here and answer it below"
   ]
  },
  {
   "cell_type": "code",
   "execution_count": null,
   "metadata": {},
   "outputs": [],
   "source": []
  },
  {
   "cell_type": "code",
   "execution_count": null,
   "metadata": {},
   "outputs": [],
   "source": []
  },
  {
   "cell_type": "code",
   "execution_count": null,
   "metadata": {},
   "outputs": [],
   "source": []
  },
  {
   "cell_type": "markdown",
   "metadata": {},
   "source": [
    "#### Q5: TODO - ask a question here and answer it below"
   ]
  },
  {
   "cell_type": "code",
   "execution_count": null,
   "metadata": {},
   "outputs": [],
   "source": []
  },
  {
   "cell_type": "code",
   "execution_count": null,
   "metadata": {},
   "outputs": [],
   "source": []
  },
  {
   "cell_type": "code",
   "execution_count": null,
   "metadata": {},
   "outputs": [],
   "source": []
  },
  {
   "cell_type": "markdown",
   "metadata": {},
   "source": [
    "Let us save and upload our work to Jovian before continuing."
   ]
  },
  {
   "cell_type": "code",
   "execution_count": null,
   "metadata": {},
   "outputs": [],
   "source": [
    "import jovian"
   ]
  },
  {
   "cell_type": "code",
   "execution_count": null,
   "metadata": {},
   "outputs": [],
   "source": [
    "jovian.commit()"
   ]
  },
  {
   "cell_type": "markdown",
   "metadata": {},
   "source": [
    "## Inferences and Conclusion\n",
    "\n",
    "**TODO** - Write some explanation here: a summary of all the inferences drawn from the analysis, and any conclusions you may have drawn by answering various questions."
   ]
  },
  {
   "cell_type": "code",
   "execution_count": null,
   "metadata": {},
   "outputs": [],
   "source": [
    "import jovian"
   ]
  },
  {
   "cell_type": "code",
   "execution_count": null,
   "metadata": {},
   "outputs": [],
   "source": [
    "jovian.commit()"
   ]
  },
  {
   "cell_type": "markdown",
   "metadata": {},
   "source": [
    "## References and Future Work\n",
    "\n",
    "**TODO** - Write some explanation here: ideas for future projects using this dataset, and links to resources you found useful."
   ]
  },
  {
   "cell_type": "markdown",
   "metadata": {},
   "source": [
    "> Submission Instructions (delete this cell)\n",
    "> \n",
    "> - Upload your notebook to your Jovian.ml profile using `jovian.commit`.\n",
    "> - **Make a submission here**: https://jovian.ml/learn/data-analysis-with-python-zero-to-pandas/assignment/course-project\n",
    "> - Share your work on the forum: https://jovian.ml/forum/t/course-project-on-exploratory-data-analysis-discuss-and-share-your-work/11684\n",
    "> - Share your work on social media (Twitter, LinkedIn, Telegram etc.) and tag [@JovianML](https://twitter.com/jovianml)\n",
    ">\n",
    "> (Optional) Write a blog post\n",
    "> \n",
    "> - A blog post is a great way to present and showcase your work.  \n",
    "> - Sign up on [Medium.com](https://medium.com) to write a blog post for your project.\n",
    "> - Copy over the explanations from your Jupyter notebook into your blog post, and [embed code cells & outputs](https://medium.com/jovianml/share-and-embed-jupyter-notebooks-online-with-jovian-ml-df709a03064e)\n",
    "> - Check out the Jovian.ml Medium publication for inspiration: https://medium.com/jovianml\n",
    "\n",
    "\n",
    " "
   ]
  },
  {
   "cell_type": "code",
   "execution_count": null,
   "metadata": {},
   "outputs": [],
   "source": [
    "import jovian"
   ]
  },
  {
   "cell_type": "code",
   "execution_count": null,
   "metadata": {
    "scrolled": true
   },
   "outputs": [],
   "source": [
    "jovian.commit()"
   ]
  },
  {
   "cell_type": "code",
   "execution_count": null,
   "metadata": {},
   "outputs": [],
   "source": []
  }
 ],
 "metadata": {
  "interpreter": {
   "hash": "ce5d4c5ce0eae8759d521230ff7b88377fa62fb91656e5c2966f4bb1fdd362b7"
  },
  "kernelspec": {
   "display_name": "Python 3 (ipykernel)",
   "language": "python",
   "name": "python3"
  },
  "language_info": {
   "codemirror_mode": {
    "name": "ipython",
    "version": 3
   },
   "file_extension": ".py",
   "mimetype": "text/x-python",
   "name": "python",
   "nbconvert_exporter": "python",
   "pygments_lexer": "ipython3",
   "version": "3.9.12"
  },
  "toc-autonumbering": true,
  "toc-showcode": false,
  "toc-showmarkdowntxt": false,
  "toc-showtags": false
 },
 "nbformat": 4,
 "nbformat_minor": 4
}
