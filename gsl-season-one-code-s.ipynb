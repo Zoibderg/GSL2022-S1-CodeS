{
 "cells": [
  {
   "cell_type": "markdown",
   "metadata": {},
   "source": [
    "# Project Title - change this\n",
    "\n",
    "TODO - Write some introduction about your project here: describe the dataset, where you got it from, what you're trying to do with it, and which tools & techniques you're using. You can also mention about the course [Data Analysis with Python: Zero to Pandas](zerotopandas.com), and what you've learned from it."
   ]
  },
  {
   "cell_type": "code",
   "execution_count": 1,
   "metadata": {},
   "outputs": [],
   "source": [
    "# directory of datasets\n",
    "data_dir = './csv_datasets'"
   ]
  },
  {
   "cell_type": "code",
   "execution_count": 2,
   "metadata": {},
   "outputs": [
    {
     "data": {
      "text/plain": [
       "['player.csv', '.DS_Store', 'match.csv', 'eventadjacency.csv', 'event.csv']"
      ]
     },
     "execution_count": 2,
     "metadata": {},
     "output_type": "execute_result"
    }
   ],
   "source": [
    "import os\n",
    "os.listdir(data_dir)"
   ]
  },
  {
   "cell_type": "markdown",
   "metadata": {},
   "source": [
    "Let us save and upload our work to Jovian before continuing."
   ]
  },
  {
   "cell_type": "code",
   "execution_count": 3,
   "metadata": {},
   "outputs": [],
   "source": [
    "project_name = \"gsl-season-one-code-s\"\n",
    "project_file = 'gsl-season-one-code-s.ipynb'"
   ]
  },
  {
   "cell_type": "code",
   "execution_count": 4,
   "metadata": {},
   "outputs": [
    {
     "name": "stdout",
     "output_type": "stream",
     "text": [
      "Note: you may need to restart the kernel to use updated packages.\n"
     ]
    }
   ],
   "source": [
    "%pip install jovian --upgrade -q"
   ]
  },
  {
   "cell_type": "code",
   "execution_count": 5,
   "metadata": {},
   "outputs": [
    {
     "data": {
      "application/javascript": [
       "if (window.IPython && IPython.notebook.kernel) IPython.notebook.kernel.execute('jovian.utils.jupyter.get_notebook_name_saved = lambda: \"' + IPython.notebook.notebook_name + '\"')"
      ],
      "text/plain": [
       "<IPython.core.display.Javascript object>"
      ]
     },
     "metadata": {},
     "output_type": "display_data"
    }
   ],
   "source": [
    "import jovian"
   ]
  },
  {
   "cell_type": "code",
   "execution_count": 6,
   "metadata": {},
   "outputs": [],
   "source": [
    "# jovian.commit(project=project_name, filename=project_file)"
   ]
  },
  {
   "cell_type": "markdown",
   "metadata": {},
   "source": [
    "## Data Preparation and Cleaning\n",
    "\n",
    "**TODO** - Write some explanation here.\n",
    "\n"
   ]
  },
  {
   "cell_type": "markdown",
   "metadata": {},
   "source": [
    "> Instructions (delete this cell):\n",
    ">\n",
    "> - Load the dataset into a data frame using Pandas\n",
    "> - Explore the number of rows & columns, ranges of values etc.\n",
    "> - Handle missing, incorrect and invalid data\n",
    "> - Perform any additional steps (parsing dates, creating additional columns, merging multiple dataset etc.)"
   ]
  },
  {
   "cell_type": "code",
   "execution_count": 7,
   "metadata": {},
   "outputs": [],
   "source": [
    "import pandas as pd"
   ]
  },
  {
   "cell_type": "code",
   "execution_count": 8,
   "metadata": {},
   "outputs": [],
   "source": [
    "# import raw data frames from csv\n",
    "events_RDF = pd.read_csv(f'{data_dir}/event.csv')\n",
    "eventadjacency_RDF = pd.read_csv(f'{data_dir}/eventadjacency.csv')\n",
    "matches_RDF = pd.read_csv(f'{data_dir}/match.csv')\n",
    "players_RDF = pd.read_csv(f'{data_dir}/player.csv')"
   ]
  },
  {
   "cell_type": "code",
   "execution_count": 9,
   "metadata": {},
   "outputs": [
    {
     "name": "stdout",
     "output_type": "stream",
     "text": [
      "<class 'pandas.core.frame.DataFrame'>\n",
      "RangeIndex: 125344 entries, 0 to 125343\n",
      "Data columns (total 12 columns):\n",
      " #   Column     Non-Null Count   Dtype  \n",
      "---  ------     --------------   -----  \n",
      " 0   id         125344 non-null  int64  \n",
      " 1   name       125321 non-null  object \n",
      " 2   parent_id  124166 non-null  float64\n",
      " 3   fullname   125344 non-null  object \n",
      " 4   prizepool  13032 non-null   object \n",
      " 5   earliest   123468 non-null  object \n",
      " 6   latest     123468 non-null  object \n",
      " 7   category   245 non-null     object \n",
      " 8   type       125344 non-null  object \n",
      " 9   idx        125344 non-null  int64  \n",
      " 10  wcs_year   105 non-null     float64\n",
      " 11  wcs_tier   105 non-null     float64\n",
      "dtypes: float64(3), int64(2), object(7)\n",
      "memory usage: 11.5+ MB\n"
     ]
    }
   ],
   "source": [
    "# explore and clean events\n",
    "events_RDF.drop(['lft', 'rgt', 'closed', 'big', \n",
    "                'noprint', 'lp_name', 'tlpd_id', 'tlpd_db', \n",
    "                'tl_thread', 'homepage'], axis=1, inplace=True)\n",
    "\n",
    "events_RDF.info()"
   ]
  },
  {
   "cell_type": "code",
   "execution_count": 10,
   "metadata": {},
   "outputs": [
    {
     "data": {
      "text/html": [
       "<div>\n",
       "<style scoped>\n",
       "    .dataframe tbody tr th:only-of-type {\n",
       "        vertical-align: middle;\n",
       "    }\n",
       "\n",
       "    .dataframe tbody tr th {\n",
       "        vertical-align: top;\n",
       "    }\n",
       "\n",
       "    .dataframe thead th {\n",
       "        text-align: right;\n",
       "    }\n",
       "</style>\n",
       "<table border=\"1\" class=\"dataframe\">\n",
       "  <thead>\n",
       "    <tr style=\"text-align: right;\">\n",
       "      <th></th>\n",
       "      <th>id</th>\n",
       "      <th>name</th>\n",
       "      <th>parent_id</th>\n",
       "      <th>fullname</th>\n",
       "      <th>prizepool</th>\n",
       "      <th>earliest</th>\n",
       "      <th>latest</th>\n",
       "      <th>category</th>\n",
       "      <th>type</th>\n",
       "      <th>idx</th>\n",
       "      <th>wcs_year</th>\n",
       "      <th>wcs_tier</th>\n",
       "    </tr>\n",
       "  </thead>\n",
       "  <tbody>\n",
       "    <tr>\n",
       "      <th>37778</th>\n",
       "      <td>97687</td>\n",
       "      <td>Ro16</td>\n",
       "      <td>97686.0</td>\n",
       "      <td>Legacy Weekly Japan #171 Ro16</td>\n",
       "      <td>NaN</td>\n",
       "      <td>2019-06-02</td>\n",
       "      <td>2019-06-02</td>\n",
       "      <td>NaN</td>\n",
       "      <td>round</td>\n",
       "      <td>62584</td>\n",
       "      <td>NaN</td>\n",
       "      <td>NaN</td>\n",
       "    </tr>\n",
       "    <tr>\n",
       "      <th>28276</th>\n",
       "      <td>108651</td>\n",
       "      <td>Quaranteams</td>\n",
       "      <td>105522.0</td>\n",
       "      <td>UKSC2 League Quaranteams</td>\n",
       "      <td>NaN</td>\n",
       "      <td>2020-04-13</td>\n",
       "      <td>2020-04-27</td>\n",
       "      <td>NaN</td>\n",
       "      <td>event</td>\n",
       "      <td>110034</td>\n",
       "      <td>NaN</td>\n",
       "      <td>NaN</td>\n",
       "    </tr>\n",
       "    <tr>\n",
       "      <th>21818</th>\n",
       "      <td>121371</td>\n",
       "      <td>#108</td>\n",
       "      <td>78024.0</td>\n",
       "      <td>Sentimiento Latino #108</td>\n",
       "      <td>t</td>\n",
       "      <td>2021-04-30</td>\n",
       "      <td>2021-04-30</td>\n",
       "      <td>NaN</td>\n",
       "      <td>event</td>\n",
       "      <td>100593</td>\n",
       "      <td>NaN</td>\n",
       "      <td>NaN</td>\n",
       "    </tr>\n",
       "    <tr>\n",
       "      <th>94050</th>\n",
       "      <td>122288</td>\n",
       "      <td>Ro4</td>\n",
       "      <td>122285.0</td>\n",
       "      <td>CSO Cup #19 Ro4</td>\n",
       "      <td>NaN</td>\n",
       "      <td>2021-05-29</td>\n",
       "      <td>2021-05-29</td>\n",
       "      <td>NaN</td>\n",
       "      <td>round</td>\n",
       "      <td>19739</td>\n",
       "      <td>NaN</td>\n",
       "      <td>NaN</td>\n",
       "    </tr>\n",
       "    <tr>\n",
       "      <th>65475</th>\n",
       "      <td>91307</td>\n",
       "      <td>Group Stage</td>\n",
       "      <td>91298.0</td>\n",
       "      <td>WardiTV 2018 Has Left the Game Korean Server G...</td>\n",
       "      <td>NaN</td>\n",
       "      <td>2018-12-01</td>\n",
       "      <td>2018-12-09</td>\n",
       "      <td>NaN</td>\n",
       "      <td>round</td>\n",
       "      <td>113822</td>\n",
       "      <td>NaN</td>\n",
       "      <td>NaN</td>\n",
       "    </tr>\n",
       "  </tbody>\n",
       "</table>\n",
       "</div>"
      ],
      "text/plain": [
       "           id         name  parent_id  \\\n",
       "37778   97687         Ro16    97686.0   \n",
       "28276  108651  Quaranteams   105522.0   \n",
       "21818  121371         #108    78024.0   \n",
       "94050  122288          Ro4   122285.0   \n",
       "65475   91307  Group Stage    91298.0   \n",
       "\n",
       "                                                fullname prizepool  \\\n",
       "37778                      Legacy Weekly Japan #171 Ro16       NaN   \n",
       "28276                           UKSC2 League Quaranteams       NaN   \n",
       "21818                            Sentimiento Latino #108         t   \n",
       "94050                                    CSO Cup #19 Ro4       NaN   \n",
       "65475  WardiTV 2018 Has Left the Game Korean Server G...       NaN   \n",
       "\n",
       "         earliest      latest category   type     idx  wcs_year  wcs_tier  \n",
       "37778  2019-06-02  2019-06-02      NaN  round   62584       NaN       NaN  \n",
       "28276  2020-04-13  2020-04-27      NaN  event  110034       NaN       NaN  \n",
       "21818  2021-04-30  2021-04-30      NaN  event  100593       NaN       NaN  \n",
       "94050  2021-05-29  2021-05-29      NaN  round   19739       NaN       NaN  \n",
       "65475  2018-12-01  2018-12-09      NaN  round  113822       NaN       NaN  "
      ]
     },
     "execution_count": 10,
     "metadata": {},
     "output_type": "execute_result"
    }
   ],
   "source": [
    "events_RDF.sample(5)"
   ]
  },
  {
   "cell_type": "markdown",
   "metadata": {},
   "source": [
    "Taking a look at event adjacency, it looks like this might not be useful for us. "
   ]
  },
  {
   "cell_type": "code",
   "execution_count": 11,
   "metadata": {},
   "outputs": [
    {
     "name": "stdout",
     "output_type": "stream",
     "text": [
      "<class 'pandas.core.frame.DataFrame'>\n",
      "RangeIndex: 591452 entries, 0 to 591451\n",
      "Data columns (total 4 columns):\n",
      " #   Column     Non-Null Count   Dtype\n",
      "---  ------     --------------   -----\n",
      " 0   id         591452 non-null  int64\n",
      " 1   parent_id  591452 non-null  int64\n",
      " 2   child_id   591452 non-null  int64\n",
      " 3   distance   591452 non-null  int64\n",
      "dtypes: int64(4)\n",
      "memory usage: 18.0 MB\n"
     ]
    }
   ],
   "source": [
    "# explore and clean event adjacency\n",
    "eventadjacency_RDF.info()"
   ]
  },
  {
   "cell_type": "code",
   "execution_count": 12,
   "metadata": {},
   "outputs": [
    {
     "data": {
      "text/html": [
       "<div>\n",
       "<style scoped>\n",
       "    .dataframe tbody tr th:only-of-type {\n",
       "        vertical-align: middle;\n",
       "    }\n",
       "\n",
       "    .dataframe tbody tr th {\n",
       "        vertical-align: top;\n",
       "    }\n",
       "\n",
       "    .dataframe thead th {\n",
       "        text-align: right;\n",
       "    }\n",
       "</style>\n",
       "<table border=\"1\" class=\"dataframe\">\n",
       "  <thead>\n",
       "    <tr style=\"text-align: right;\">\n",
       "      <th></th>\n",
       "      <th>id</th>\n",
       "      <th>parent_id</th>\n",
       "      <th>child_id</th>\n",
       "      <th>distance</th>\n",
       "    </tr>\n",
       "  </thead>\n",
       "  <tbody>\n",
       "    <tr>\n",
       "      <th>475696</th>\n",
       "      <td>799486</td>\n",
       "      <td>104760</td>\n",
       "      <td>105574</td>\n",
       "      <td>1</td>\n",
       "    </tr>\n",
       "    <tr>\n",
       "      <th>166127</th>\n",
       "      <td>475110</td>\n",
       "      <td>39098</td>\n",
       "      <td>39275</td>\n",
       "      <td>2</td>\n",
       "    </tr>\n",
       "    <tr>\n",
       "      <th>418595</th>\n",
       "      <td>741692</td>\n",
       "      <td>56997</td>\n",
       "      <td>93426</td>\n",
       "      <td>3</td>\n",
       "    </tr>\n",
       "    <tr>\n",
       "      <th>306715</th>\n",
       "      <td>625444</td>\n",
       "      <td>30</td>\n",
       "      <td>68566</td>\n",
       "      <td>5</td>\n",
       "    </tr>\n",
       "    <tr>\n",
       "      <th>236740</th>\n",
       "      <td>550997</td>\n",
       "      <td>30</td>\n",
       "      <td>53746</td>\n",
       "      <td>5</td>\n",
       "    </tr>\n",
       "  </tbody>\n",
       "</table>\n",
       "</div>"
      ],
      "text/plain": [
       "            id  parent_id  child_id  distance\n",
       "475696  799486     104760    105574         1\n",
       "166127  475110      39098     39275         2\n",
       "418595  741692      56997     93426         3\n",
       "306715  625444         30     68566         5\n",
       "236740  550997         30     53746         5"
      ]
     },
     "execution_count": 12,
     "metadata": {},
     "output_type": "execute_result"
    }
   ],
   "source": [
    "eventadjacency_RDF.sample(5)"
   ]
  },
  {
   "cell_type": "markdown",
   "metadata": {},
   "source": [
    "Lets keep exploring."
   ]
  },
  {
   "cell_type": "code",
   "execution_count": 13,
   "metadata": {},
   "outputs": [
    {
     "name": "stdout",
     "output_type": "stream",
     "text": [
      "<class 'pandas.core.frame.DataFrame'>\n",
      "RangeIndex: 401961 entries, 0 to 401960\n",
      "Data columns (total 11 columns):\n",
      " #   Column       Non-Null Count   Dtype  \n",
      "---  ------       --------------   -----  \n",
      " 0   date         401961 non-null  object \n",
      " 1   pla_id       401961 non-null  int64  \n",
      " 2   plb_id       401961 non-null  int64  \n",
      " 3   sca          401961 non-null  int64  \n",
      " 4   scb          401961 non-null  int64  \n",
      " 5   event        35241 non-null   object \n",
      " 6   eventobj_id  398957 non-null  float64\n",
      " 7   game         401961 non-null  object \n",
      " 8   offline      401961 non-null  object \n",
      " 9   rta_id       383824 non-null  float64\n",
      " 10  rtb_id       376194 non-null  float64\n",
      "dtypes: float64(3), int64(4), object(4)\n",
      "memory usage: 33.7+ MB\n"
     ]
    }
   ],
   "source": [
    "# explore and clean matches\n",
    "matches_RDF.drop(['id', 'period_id', 'rca', 'rcb', 'treated', 'submitter_id'], axis=1, inplace=True)\n",
    "matches_RDF.info()"
   ]
  },
  {
   "cell_type": "code",
   "execution_count": 14,
   "metadata": {
    "tags": []
   },
   "outputs": [
    {
     "data": {
      "text/html": [
       "<div>\n",
       "<style scoped>\n",
       "    .dataframe tbody tr th:only-of-type {\n",
       "        vertical-align: middle;\n",
       "    }\n",
       "\n",
       "    .dataframe tbody tr th {\n",
       "        vertical-align: top;\n",
       "    }\n",
       "\n",
       "    .dataframe thead th {\n",
       "        text-align: right;\n",
       "    }\n",
       "</style>\n",
       "<table border=\"1\" class=\"dataframe\">\n",
       "  <thead>\n",
       "    <tr style=\"text-align: right;\">\n",
       "      <th></th>\n",
       "      <th>date</th>\n",
       "      <th>pla_id</th>\n",
       "      <th>plb_id</th>\n",
       "      <th>sca</th>\n",
       "      <th>scb</th>\n",
       "      <th>event</th>\n",
       "      <th>eventobj_id</th>\n",
       "      <th>game</th>\n",
       "      <th>offline</th>\n",
       "      <th>rta_id</th>\n",
       "      <th>rtb_id</th>\n",
       "    </tr>\n",
       "  </thead>\n",
       "  <tbody>\n",
       "    <tr>\n",
       "      <th>274244</th>\n",
       "      <td>2012-03-29</td>\n",
       "      <td>758</td>\n",
       "      <td>366</td>\n",
       "      <td>1</td>\n",
       "      <td>2</td>\n",
       "      <td>NaN</td>\n",
       "      <td>5118.0</td>\n",
       "      <td>WoL</td>\n",
       "      <td>f</td>\n",
       "      <td>4682384.0</td>\n",
       "      <td>4682050.0</td>\n",
       "    </tr>\n",
       "    <tr>\n",
       "      <th>11847</th>\n",
       "      <td>2018-01-05</td>\n",
       "      <td>106</td>\n",
       "      <td>4105</td>\n",
       "      <td>2</td>\n",
       "      <td>0</td>\n",
       "      <td>NaN</td>\n",
       "      <td>77610.0</td>\n",
       "      <td>LotV</td>\n",
       "      <td>f</td>\n",
       "      <td>6153171.0</td>\n",
       "      <td>6156696.0</td>\n",
       "    </tr>\n",
       "    <tr>\n",
       "      <th>132270</th>\n",
       "      <td>2020-05-18</td>\n",
       "      <td>13361</td>\n",
       "      <td>177</td>\n",
       "      <td>0</td>\n",
       "      <td>2</td>\n",
       "      <td>NaN</td>\n",
       "      <td>109477.0</td>\n",
       "      <td>LotV</td>\n",
       "      <td>f</td>\n",
       "      <td>7155826.0</td>\n",
       "      <td>7153848.0</td>\n",
       "    </tr>\n",
       "    <tr>\n",
       "      <th>197897</th>\n",
       "      <td>2020-12-09</td>\n",
       "      <td>7507</td>\n",
       "      <td>15254</td>\n",
       "      <td>0</td>\n",
       "      <td>2</td>\n",
       "      <td>NaN</td>\n",
       "      <td>116930.0</td>\n",
       "      <td>LotV</td>\n",
       "      <td>f</td>\n",
       "      <td>7444948.0</td>\n",
       "      <td>7457607.0</td>\n",
       "    </tr>\n",
       "    <tr>\n",
       "      <th>204675</th>\n",
       "      <td>2019-06-01</td>\n",
       "      <td>1652</td>\n",
       "      <td>184</td>\n",
       "      <td>0</td>\n",
       "      <td>2</td>\n",
       "      <td>NaN</td>\n",
       "      <td>97553.0</td>\n",
       "      <td>LotV</td>\n",
       "      <td>f</td>\n",
       "      <td>6712769.0</td>\n",
       "      <td>6711438.0</td>\n",
       "    </tr>\n",
       "  </tbody>\n",
       "</table>\n",
       "</div>"
      ],
      "text/plain": [
       "              date  pla_id  plb_id  sca  scb event  eventobj_id  game offline  \\\n",
       "274244  2012-03-29     758     366    1    2   NaN       5118.0   WoL       f   \n",
       "11847   2018-01-05     106    4105    2    0   NaN      77610.0  LotV       f   \n",
       "132270  2020-05-18   13361     177    0    2   NaN     109477.0  LotV       f   \n",
       "197897  2020-12-09    7507   15254    0    2   NaN     116930.0  LotV       f   \n",
       "204675  2019-06-01    1652     184    0    2   NaN      97553.0  LotV       f   \n",
       "\n",
       "           rta_id     rtb_id  \n",
       "274244  4682384.0  4682050.0  \n",
       "11847   6153171.0  6156696.0  \n",
       "132270  7155826.0  7153848.0  \n",
       "197897  7444948.0  7457607.0  \n",
       "204675  6712769.0  6711438.0  "
      ]
     },
     "execution_count": 14,
     "metadata": {},
     "output_type": "execute_result"
    }
   ],
   "source": [
    "matches_RDF.sample(5)"
   ]
  },
  {
   "cell_type": "code",
   "execution_count": 15,
   "metadata": {},
   "outputs": [
    {
     "name": "stdout",
     "output_type": "stream",
     "text": [
      "<class 'pandas.core.frame.DataFrame'>\n",
      "RangeIndex: 21394 entries, 0 to 21393\n",
      "Data columns (total 7 columns):\n",
      " #   Column             Non-Null Count  Dtype  \n",
      "---  ------             --------------  -----  \n",
      " 0   id                 21394 non-null  int64  \n",
      " 1   tag                21393 non-null  object \n",
      " 2   name               4938 non-null   object \n",
      " 3   country            19029 non-null  object \n",
      " 4   race               21394 non-null  object \n",
      " 5   current_rating_id  21288 non-null  float64\n",
      " 6   romanized_name     1333 non-null   object \n",
      "dtypes: float64(1), int64(1), object(5)\n",
      "memory usage: 1.1+ MB\n"
     ]
    }
   ],
   "source": [
    "# explore and clean player\n",
    "players_RDF.drop(['birthday', 'mcnum', 'tlpd_id', \n",
    "                  'tlpd_db', 'dom_val', 'dom_start_id', \n",
    "                  'dom_end_id', 'lp_name', 'sc2e_id'], axis=1, inplace=True)\n",
    "players_RDF.info()"
   ]
  },
  {
   "cell_type": "code",
   "execution_count": 16,
   "metadata": {},
   "outputs": [
    {
     "data": {
      "text/html": [
       "<div>\n",
       "<style scoped>\n",
       "    .dataframe tbody tr th:only-of-type {\n",
       "        vertical-align: middle;\n",
       "    }\n",
       "\n",
       "    .dataframe tbody tr th {\n",
       "        vertical-align: top;\n",
       "    }\n",
       "\n",
       "    .dataframe thead th {\n",
       "        text-align: right;\n",
       "    }\n",
       "</style>\n",
       "<table border=\"1\" class=\"dataframe\">\n",
       "  <thead>\n",
       "    <tr style=\"text-align: right;\">\n",
       "      <th></th>\n",
       "      <th>id</th>\n",
       "      <th>tag</th>\n",
       "      <th>name</th>\n",
       "      <th>country</th>\n",
       "      <th>race</th>\n",
       "      <th>current_rating_id</th>\n",
       "      <th>romanized_name</th>\n",
       "    </tr>\n",
       "  </thead>\n",
       "  <tbody>\n",
       "    <tr>\n",
       "      <th>17965</th>\n",
       "      <td>18865</td>\n",
       "      <td>Kaplan</td>\n",
       "      <td>NaN</td>\n",
       "      <td>NaN</td>\n",
       "      <td>R</td>\n",
       "      <td>8223338.0</td>\n",
       "      <td>NaN</td>\n",
       "    </tr>\n",
       "    <tr>\n",
       "      <th>10512</th>\n",
       "      <td>22627</td>\n",
       "      <td>JKa</td>\n",
       "      <td>NaN</td>\n",
       "      <td>PE</td>\n",
       "      <td>R</td>\n",
       "      <td>8217377.0</td>\n",
       "      <td>NaN</td>\n",
       "    </tr>\n",
       "    <tr>\n",
       "      <th>20537</th>\n",
       "      <td>13741</td>\n",
       "      <td>AGTMR</td>\n",
       "      <td>NaN</td>\n",
       "      <td>PE</td>\n",
       "      <td>P</td>\n",
       "      <td>8210445.0</td>\n",
       "      <td>NaN</td>\n",
       "    </tr>\n",
       "    <tr>\n",
       "      <th>17395</th>\n",
       "      <td>8700</td>\n",
       "      <td>하동진</td>\n",
       "      <td>NaN</td>\n",
       "      <td>KR</td>\n",
       "      <td>T</td>\n",
       "      <td>8209177.0</td>\n",
       "      <td>NaN</td>\n",
       "    </tr>\n",
       "    <tr>\n",
       "      <th>7212</th>\n",
       "      <td>10943</td>\n",
       "      <td>MorN</td>\n",
       "      <td>NaN</td>\n",
       "      <td>US</td>\n",
       "      <td>T</td>\n",
       "      <td>8223099.0</td>\n",
       "      <td>NaN</td>\n",
       "    </tr>\n",
       "  </tbody>\n",
       "</table>\n",
       "</div>"
      ],
      "text/plain": [
       "          id     tag name country race  current_rating_id romanized_name\n",
       "17965  18865  Kaplan  NaN     NaN    R          8223338.0            NaN\n",
       "10512  22627     JKa  NaN      PE    R          8217377.0            NaN\n",
       "20537  13741   AGTMR  NaN      PE    P          8210445.0            NaN\n",
       "17395   8700     하동진  NaN      KR    T          8209177.0            NaN\n",
       "7212   10943    MorN  NaN      US    T          8223099.0            NaN"
      ]
     },
     "execution_count": 16,
     "metadata": {},
     "output_type": "execute_result"
    }
   ],
   "source": [
    "players_RDF.sample(5)"
   ]
  },
  {
   "cell_type": "markdown",
   "metadata": {},
   "source": [
    "# In the next few cells, build the GSL dataframe.\n"
   ]
  },
  {
   "cell_type": "code",
   "execution_count": 17,
   "metadata": {
    "tags": []
   },
   "outputs": [
    {
     "data": {
      "text/html": [
       "<div>\n",
       "<style scoped>\n",
       "    .dataframe tbody tr th:only-of-type {\n",
       "        vertical-align: middle;\n",
       "    }\n",
       "\n",
       "    .dataframe tbody tr th {\n",
       "        vertical-align: top;\n",
       "    }\n",
       "\n",
       "    .dataframe thead th {\n",
       "        text-align: right;\n",
       "    }\n",
       "</style>\n",
       "<table border=\"1\" class=\"dataframe\">\n",
       "  <thead>\n",
       "    <tr style=\"text-align: right;\">\n",
       "      <th></th>\n",
       "      <th>eventobj_id</th>\n",
       "      <th>name</th>\n",
       "      <th>parent_id</th>\n",
       "      <th>fullname</th>\n",
       "      <th>prizepool</th>\n",
       "      <th>earliest</th>\n",
       "      <th>latest</th>\n",
       "      <th>category</th>\n",
       "      <th>type</th>\n",
       "      <th>idx</th>\n",
       "      <th>...</th>\n",
       "      <th>date</th>\n",
       "      <th>pla_id</th>\n",
       "      <th>plb_id</th>\n",
       "      <th>sca</th>\n",
       "      <th>scb</th>\n",
       "      <th>event</th>\n",
       "      <th>game</th>\n",
       "      <th>offline</th>\n",
       "      <th>rta_id</th>\n",
       "      <th>rtb_id</th>\n",
       "    </tr>\n",
       "  </thead>\n",
       "  <tbody>\n",
       "    <tr>\n",
       "      <th>330600</th>\n",
       "      <td>104988</td>\n",
       "      <td>Ro64</td>\n",
       "      <td>104977.0</td>\n",
       "      <td>ESL Open Cup Americas #2 Ro64</td>\n",
       "      <td>NaN</td>\n",
       "      <td>2020-01-19</td>\n",
       "      <td>2020-01-19</td>\n",
       "      <td>NaN</td>\n",
       "      <td>round</td>\n",
       "      <td>30848</td>\n",
       "      <td>...</td>\n",
       "      <td>2020-01-19</td>\n",
       "      <td>19376</td>\n",
       "      <td>19897</td>\n",
       "      <td>2</td>\n",
       "      <td>0</td>\n",
       "      <td>NaN</td>\n",
       "      <td>LotV</td>\n",
       "      <td>f</td>\n",
       "      <td>7015714.0</td>\n",
       "      <td>NaN</td>\n",
       "    </tr>\n",
       "    <tr>\n",
       "      <th>159714</th>\n",
       "      <td>41226</td>\n",
       "      <td>Ro16</td>\n",
       "      <td>41220.0</td>\n",
       "      <td>WCS 2012 Europe Nationals Norway Qualifiers #1...</td>\n",
       "      <td>NaN</td>\n",
       "      <td>2013-07-02</td>\n",
       "      <td>2013-07-02</td>\n",
       "      <td>NaN</td>\n",
       "      <td>round</td>\n",
       "      <td>116052</td>\n",
       "      <td>...</td>\n",
       "      <td>2013-07-02</td>\n",
       "      <td>2169</td>\n",
       "      <td>4284</td>\n",
       "      <td>0</td>\n",
       "      <td>2</td>\n",
       "      <td>NaN</td>\n",
       "      <td>HotS</td>\n",
       "      <td>f</td>\n",
       "      <td>4850086.0</td>\n",
       "      <td>4852078.0</td>\n",
       "    </tr>\n",
       "    <tr>\n",
       "      <th>246848</th>\n",
       "      <td>101931</td>\n",
       "      <td>Ro8</td>\n",
       "      <td>101928.0</td>\n",
       "      <td>SCVRush LotV EU Open #185 Ro8</td>\n",
       "      <td>NaN</td>\n",
       "      <td>2019-10-08</td>\n",
       "      <td>2019-10-08</td>\n",
       "      <td>NaN</td>\n",
       "      <td>round</td>\n",
       "      <td>97762</td>\n",
       "      <td>...</td>\n",
       "      <td>2019-10-08</td>\n",
       "      <td>9025</td>\n",
       "      <td>19552</td>\n",
       "      <td>2</td>\n",
       "      <td>0</td>\n",
       "      <td>NaN</td>\n",
       "      <td>LotV</td>\n",
       "      <td>f</td>\n",
       "      <td>6867341.0</td>\n",
       "      <td>NaN</td>\n",
       "    </tr>\n",
       "    <tr>\n",
       "      <th>27626</th>\n",
       "      <td>120495</td>\n",
       "      <td>Ro128</td>\n",
       "      <td>120493.0</td>\n",
       "      <td>ESL Open Cup Europe #65 Ro128</td>\n",
       "      <td>NaN</td>\n",
       "      <td>2021-04-05</td>\n",
       "      <td>2021-04-05</td>\n",
       "      <td>NaN</td>\n",
       "      <td>round</td>\n",
       "      <td>30378</td>\n",
       "      <td>...</td>\n",
       "      <td>2021-04-05</td>\n",
       "      <td>18651</td>\n",
       "      <td>966</td>\n",
       "      <td>2</td>\n",
       "      <td>0</td>\n",
       "      <td>NaN</td>\n",
       "      <td>LotV</td>\n",
       "      <td>f</td>\n",
       "      <td>7612891.0</td>\n",
       "      <td>7618520.0</td>\n",
       "    </tr>\n",
       "    <tr>\n",
       "      <th>224236</th>\n",
       "      <td>58556</td>\n",
       "      <td>Ro16</td>\n",
       "      <td>57288.0</td>\n",
       "      <td>Copa America 2016 Season 3 Qualifiers #4 Ro16</td>\n",
       "      <td>NaN</td>\n",
       "      <td>2016-06-14</td>\n",
       "      <td>2016-06-14</td>\n",
       "      <td>NaN</td>\n",
       "      <td>round</td>\n",
       "      <td>16598</td>\n",
       "      <td>...</td>\n",
       "      <td>2016-06-14</td>\n",
       "      <td>7555</td>\n",
       "      <td>1263</td>\n",
       "      <td>1</td>\n",
       "      <td>2</td>\n",
       "      <td>NaN</td>\n",
       "      <td>LotV</td>\n",
       "      <td>f</td>\n",
       "      <td>5636843.0</td>\n",
       "      <td>5631454.0</td>\n",
       "    </tr>\n",
       "  </tbody>\n",
       "</table>\n",
       "<p>5 rows × 22 columns</p>\n",
       "</div>"
      ],
      "text/plain": [
       "        eventobj_id   name  parent_id  \\\n",
       "330600       104988   Ro64   104977.0   \n",
       "159714        41226   Ro16    41220.0   \n",
       "246848       101931    Ro8   101928.0   \n",
       "27626        120495  Ro128   120493.0   \n",
       "224236        58556   Ro16    57288.0   \n",
       "\n",
       "                                                 fullname prizepool  \\\n",
       "330600                      ESL Open Cup Americas #2 Ro64       NaN   \n",
       "159714  WCS 2012 Europe Nationals Norway Qualifiers #1...       NaN   \n",
       "246848                      SCVRush LotV EU Open #185 Ro8       NaN   \n",
       "27626                       ESL Open Cup Europe #65 Ro128       NaN   \n",
       "224236      Copa America 2016 Season 3 Qualifiers #4 Ro16       NaN   \n",
       "\n",
       "          earliest      latest category   type     idx  ...        date  \\\n",
       "330600  2020-01-19  2020-01-19      NaN  round   30848  ...  2020-01-19   \n",
       "159714  2013-07-02  2013-07-02      NaN  round  116052  ...  2013-07-02   \n",
       "246848  2019-10-08  2019-10-08      NaN  round   97762  ...  2019-10-08   \n",
       "27626   2021-04-05  2021-04-05      NaN  round   30378  ...  2021-04-05   \n",
       "224236  2016-06-14  2016-06-14      NaN  round   16598  ...  2016-06-14   \n",
       "\n",
       "        pla_id plb_id  sca  scb  event  game offline     rta_id     rtb_id  \n",
       "330600   19376  19897    2    0    NaN  LotV       f  7015714.0        NaN  \n",
       "159714    2169   4284    0    2    NaN  HotS       f  4850086.0  4852078.0  \n",
       "246848    9025  19552    2    0    NaN  LotV       f  6867341.0        NaN  \n",
       "27626    18651    966    2    0    NaN  LotV       f  7612891.0  7618520.0  \n",
       "224236    7555   1263    1    2    NaN  LotV       f  5636843.0  5631454.0  \n",
       "\n",
       "[5 rows x 22 columns]"
      ]
     },
     "execution_count": 17,
     "metadata": {},
     "output_type": "execute_result"
    }
   ],
   "source": [
    "# merge matches with their respective event\n",
    "events_RDF.rename(columns={'id': 'eventobj_id'}, inplace=True)\n",
    "\n",
    "mergedevents_RDF = pd.merge(events_RDF, matches_RDF, on='eventobj_id')\n",
    "mergedevents_RDF.sample(5)"
   ]
  },
  {
   "cell_type": "code",
   "execution_count": 18,
   "metadata": {
    "tags": []
   },
   "outputs": [
    {
     "name": "stdout",
     "output_type": "stream",
     "text": [
      "GSL 2022 Season 1 Code S Group Stage 1 Group B\n",
      "GSL 2022 Season 1 Code S Group Stage 1 Group C\n",
      "GSL 2022 Season 1 Code S Playoffs Ro4\n",
      "GSL 2022 Season 1 Code S Playoffs Final\n",
      "GSL 2022 Season 1 Code S\n",
      "GSL 2022 Season 1 Code S Playoffs\n",
      "GSL 2022 Season 1 Code S Group Stage 2 Group B\n",
      "GSL 2022 Season 1 Code S Round of 6 Decider Match\n",
      "GSL 2022 Season 1 Code S Group Stage 1\n",
      "GSL 2022 Season 1 Code S Round of 6\n",
      "GSL 2022 Season 1 Code S Group Stage 2 Group A\n",
      "GSL 2022 Season 1 Code S Round of 6 2nd vs 2nd\n",
      "GSL 2022 Season 1 Code S Group Stage 1 Group E\n",
      "GSL 2022 Season 1 Code S Round of 6 3rd vs 3rd\n",
      "GSL 2022 Season 1 Code S Group Stage 2\n",
      "GSL 2022 Season 1 Code S Group Stage 1 Group A\n",
      "GSL 2022 Season 1 Code S Group Stage 1 Group D\n"
     ]
    }
   ],
   "source": [
    "# figure out the string that needs to be used to identify tournament\n",
    "code_s = []\n",
    "for event in events_RDF.fullname:\n",
    "    if 'GSL 2022 Season 1 Code S' in event:\n",
    "        print(event)"
   ]
  },
  {
   "cell_type": "code",
   "execution_count": 19,
   "metadata": {
    "tags": []
   },
   "outputs": [],
   "source": [
    "# remove all events that are not GSL 2022 S1 Code S\n",
    "mergedevents_RDF = mergedevents_RDF[mergedevents_RDF['fullname'].str.contains('GSL 2022 Season 1 Code S')]"
   ]
  },
  {
   "cell_type": "code",
   "execution_count": 30,
   "metadata": {},
   "outputs": [
    {
     "data": {
      "text/html": [
       "<div>\n",
       "<style scoped>\n",
       "    .dataframe tbody tr th:only-of-type {\n",
       "        vertical-align: middle;\n",
       "    }\n",
       "\n",
       "    .dataframe tbody tr th {\n",
       "        vertical-align: top;\n",
       "    }\n",
       "\n",
       "    .dataframe thead th {\n",
       "        text-align: right;\n",
       "    }\n",
       "</style>\n",
       "<table border=\"1\" class=\"dataframe\">\n",
       "  <thead>\n",
       "    <tr style=\"text-align: right;\">\n",
       "      <th></th>\n",
       "      <th>eventobj_id</th>\n",
       "      <th>name</th>\n",
       "      <th>parent_id</th>\n",
       "      <th>fullname</th>\n",
       "      <th>prizepool</th>\n",
       "      <th>earliest</th>\n",
       "      <th>latest</th>\n",
       "      <th>category</th>\n",
       "      <th>type</th>\n",
       "      <th>idx</th>\n",
       "      <th>...</th>\n",
       "      <th>date</th>\n",
       "      <th>pla_id</th>\n",
       "      <th>plb_id</th>\n",
       "      <th>sca</th>\n",
       "      <th>scb</th>\n",
       "      <th>event</th>\n",
       "      <th>game</th>\n",
       "      <th>offline</th>\n",
       "      <th>rta_id</th>\n",
       "      <th>rtb_id</th>\n",
       "    </tr>\n",
       "  </thead>\n",
       "  <tbody>\n",
       "    <tr>\n",
       "      <th>133938</th>\n",
       "      <td>129635</td>\n",
       "      <td>Group B</td>\n",
       "      <td>129202.0</td>\n",
       "      <td>GSL 2022 Season 1 Code S Group Stage 2 Group B</td>\n",
       "      <td>NaN</td>\n",
       "      <td>2022-04-14</td>\n",
       "      <td>2022-04-21</td>\n",
       "      <td>NaN</td>\n",
       "      <td>round</td>\n",
       "      <td>50710</td>\n",
       "      <td>...</td>\n",
       "      <td>2022-04-21</td>\n",
       "      <td>2</td>\n",
       "      <td>76</td>\n",
       "      <td>0</td>\n",
       "      <td>2</td>\n",
       "      <td>NaN</td>\n",
       "      <td>LotV</td>\n",
       "      <td>t</td>\n",
       "      <td>8202010.0</td>\n",
       "      <td>8186088.0</td>\n",
       "    </tr>\n",
       "    <tr>\n",
       "      <th>196402</th>\n",
       "      <td>129634</td>\n",
       "      <td>Group A</td>\n",
       "      <td>129202.0</td>\n",
       "      <td>GSL 2022 Season 1 Code S Group Stage 2 Group A</td>\n",
       "      <td>NaN</td>\n",
       "      <td>2022-04-11</td>\n",
       "      <td>2022-04-18</td>\n",
       "      <td>NaN</td>\n",
       "      <td>round</td>\n",
       "      <td>50709</td>\n",
       "      <td>...</td>\n",
       "      <td>2022-04-18</td>\n",
       "      <td>47</td>\n",
       "      <td>1662</td>\n",
       "      <td>1</td>\n",
       "      <td>2</td>\n",
       "      <td>NaN</td>\n",
       "      <td>LotV</td>\n",
       "      <td>t</td>\n",
       "      <td>8175569.0</td>\n",
       "      <td>8182533.0</td>\n",
       "    </tr>\n",
       "    <tr>\n",
       "      <th>373333</th>\n",
       "      <td>129208</td>\n",
       "      <td>Group D</td>\n",
       "      <td>129201.0</td>\n",
       "      <td>GSL 2022 Season 1 Code S Group Stage 1 Group D</td>\n",
       "      <td>NaN</td>\n",
       "      <td>2022-03-31</td>\n",
       "      <td>2022-03-31</td>\n",
       "      <td>NaN</td>\n",
       "      <td>round</td>\n",
       "      <td>50706</td>\n",
       "      <td>...</td>\n",
       "      <td>2022-03-31</td>\n",
       "      <td>2</td>\n",
       "      <td>1793</td>\n",
       "      <td>2</td>\n",
       "      <td>1</td>\n",
       "      <td>NaN</td>\n",
       "      <td>LotV</td>\n",
       "      <td>t</td>\n",
       "      <td>8144150.0</td>\n",
       "      <td>8155454.0</td>\n",
       "    </tr>\n",
       "  </tbody>\n",
       "</table>\n",
       "<p>3 rows × 22 columns</p>\n",
       "</div>"
      ],
      "text/plain": [
       "        eventobj_id     name  parent_id  \\\n",
       "133938       129635  Group B   129202.0   \n",
       "196402       129634  Group A   129202.0   \n",
       "373333       129208  Group D   129201.0   \n",
       "\n",
       "                                              fullname prizepool    earliest  \\\n",
       "133938  GSL 2022 Season 1 Code S Group Stage 2 Group B       NaN  2022-04-14   \n",
       "196402  GSL 2022 Season 1 Code S Group Stage 2 Group A       NaN  2022-04-11   \n",
       "373333  GSL 2022 Season 1 Code S Group Stage 1 Group D       NaN  2022-03-31   \n",
       "\n",
       "            latest category   type    idx  ...        date  pla_id plb_id  \\\n",
       "133938  2022-04-21      NaN  round  50710  ...  2022-04-21       2     76   \n",
       "196402  2022-04-18      NaN  round  50709  ...  2022-04-18      47   1662   \n",
       "373333  2022-03-31      NaN  round  50706  ...  2022-03-31       2   1793   \n",
       "\n",
       "        sca  scb  event  game offline     rta_id     rtb_id  \n",
       "133938    0    2    NaN  LotV       t  8202010.0  8186088.0  \n",
       "196402    1    2    NaN  LotV       t  8175569.0  8182533.0  \n",
       "373333    2    1    NaN  LotV       t  8144150.0  8155454.0  \n",
       "\n",
       "[3 rows x 22 columns]"
      ]
     },
     "execution_count": 30,
     "metadata": {},
     "output_type": "execute_result"
    }
   ],
   "source": [
    "mergedevents_RDF.sample(3)"
   ]
  },
  {
   "cell_type": "code",
   "execution_count": 26,
   "metadata": {},
   "outputs": [],
   "source": [
    "# attach players\n",
    "playera = players_RDF.rename(columns={'id': 'pla_id'})\n",
    "playerb = players_RDF.rename(columns={'id': 'plb_id'})\n",
    "mergedeventsplayers_RDF = pd.merge(playera, mergedevents_RDF, on='pla_id')\n",
    "mergedeventsplayers_RDF = pd.merge(playerb, mergedevents_RDF, on='plb_id')"
   ]
  },
  {
   "cell_type": "code",
   "execution_count": 28,
   "metadata": {},
   "outputs": [
    {
     "data": {
      "text/html": [
       "<div>\n",
       "<style scoped>\n",
       "    .dataframe tbody tr th:only-of-type {\n",
       "        vertical-align: middle;\n",
       "    }\n",
       "\n",
       "    .dataframe tbody tr th {\n",
       "        vertical-align: top;\n",
       "    }\n",
       "\n",
       "    .dataframe thead th {\n",
       "        text-align: right;\n",
       "    }\n",
       "</style>\n",
       "<table border=\"1\" class=\"dataframe\">\n",
       "  <thead>\n",
       "    <tr style=\"text-align: right;\">\n",
       "      <th></th>\n",
       "      <th>plb_id</th>\n",
       "      <th>tag</th>\n",
       "      <th>name_x</th>\n",
       "      <th>country</th>\n",
       "      <th>race</th>\n",
       "      <th>current_rating_id</th>\n",
       "      <th>romanized_name</th>\n",
       "      <th>eventobj_id</th>\n",
       "      <th>name_y</th>\n",
       "      <th>parent_id</th>\n",
       "      <th>...</th>\n",
       "      <th>wcs_tier</th>\n",
       "      <th>date</th>\n",
       "      <th>pla_id</th>\n",
       "      <th>sca</th>\n",
       "      <th>scb</th>\n",
       "      <th>event</th>\n",
       "      <th>game</th>\n",
       "      <th>offline</th>\n",
       "      <th>rta_id</th>\n",
       "      <th>rtb_id</th>\n",
       "    </tr>\n",
       "  </thead>\n",
       "  <tbody>\n",
       "    <tr>\n",
       "      <th>43</th>\n",
       "      <td>1517</td>\n",
       "      <td>Bunny</td>\n",
       "      <td>이재선</td>\n",
       "      <td>KR</td>\n",
       "      <td>T</td>\n",
       "      <td>8228410.0</td>\n",
       "      <td>Lee Jae Sun</td>\n",
       "      <td>129209</td>\n",
       "      <td>Group E</td>\n",
       "      <td>129201.0</td>\n",
       "      <td>...</td>\n",
       "      <td>NaN</td>\n",
       "      <td>2022-04-04</td>\n",
       "      <td>1665</td>\n",
       "      <td>2</td>\n",
       "      <td>0</td>\n",
       "      <td>NaN</td>\n",
       "      <td>LotV</td>\n",
       "      <td>t</td>\n",
       "      <td>8157155.0</td>\n",
       "      <td>8157154.0</td>\n",
       "    </tr>\n",
       "    <tr>\n",
       "      <th>18</th>\n",
       "      <td>233</td>\n",
       "      <td>herO</td>\n",
       "      <td>김준호</td>\n",
       "      <td>KR</td>\n",
       "      <td>P</td>\n",
       "      <td>8228406.0</td>\n",
       "      <td>Kim Joon Ho</td>\n",
       "      <td>129209</td>\n",
       "      <td>Group E</td>\n",
       "      <td>129201.0</td>\n",
       "      <td>...</td>\n",
       "      <td>NaN</td>\n",
       "      <td>2022-04-04</td>\n",
       "      <td>1665</td>\n",
       "      <td>1</td>\n",
       "      <td>2</td>\n",
       "      <td>NaN</td>\n",
       "      <td>LotV</td>\n",
       "      <td>t</td>\n",
       "      <td>8157155.0</td>\n",
       "      <td>8157153.0</td>\n",
       "    </tr>\n",
       "    <tr>\n",
       "      <th>35</th>\n",
       "      <td>2566</td>\n",
       "      <td>Armani</td>\n",
       "      <td>박진혁</td>\n",
       "      <td>KR</td>\n",
       "      <td>Z</td>\n",
       "      <td>8207378.0</td>\n",
       "      <td>Park Jin Hyuk</td>\n",
       "      <td>129206</td>\n",
       "      <td>Group B</td>\n",
       "      <td>129201.0</td>\n",
       "      <td>...</td>\n",
       "      <td>NaN</td>\n",
       "      <td>2022-03-24</td>\n",
       "      <td>1658</td>\n",
       "      <td>2</td>\n",
       "      <td>0</td>\n",
       "      <td>NaN</td>\n",
       "      <td>LotV</td>\n",
       "      <td>t</td>\n",
       "      <td>8144821.0</td>\n",
       "      <td>8160518.0</td>\n",
       "    </tr>\n",
       "    <tr>\n",
       "      <th>7</th>\n",
       "      <td>1662</td>\n",
       "      <td>Rogue</td>\n",
       "      <td>이병렬</td>\n",
       "      <td>KR</td>\n",
       "      <td>Z</td>\n",
       "      <td>8228308.0</td>\n",
       "      <td>Lee Byung Ryul</td>\n",
       "      <td>129634</td>\n",
       "      <td>Group A</td>\n",
       "      <td>129202.0</td>\n",
       "      <td>...</td>\n",
       "      <td>NaN</td>\n",
       "      <td>2022-04-18</td>\n",
       "      <td>177</td>\n",
       "      <td>2</td>\n",
       "      <td>1</td>\n",
       "      <td>NaN</td>\n",
       "      <td>LotV</td>\n",
       "      <td>t</td>\n",
       "      <td>8182532.0</td>\n",
       "      <td>8182533.0</td>\n",
       "    </tr>\n",
       "    <tr>\n",
       "      <th>24</th>\n",
       "      <td>35</td>\n",
       "      <td>Ryung</td>\n",
       "      <td>김동원</td>\n",
       "      <td>KR</td>\n",
       "      <td>T</td>\n",
       "      <td>8207374.0</td>\n",
       "      <td>Kim Dong Won</td>\n",
       "      <td>129634</td>\n",
       "      <td>Group A</td>\n",
       "      <td>129202.0</td>\n",
       "      <td>...</td>\n",
       "      <td>NaN</td>\n",
       "      <td>2022-04-11</td>\n",
       "      <td>47</td>\n",
       "      <td>1</td>\n",
       "      <td>2</td>\n",
       "      <td>NaN</td>\n",
       "      <td>LotV</td>\n",
       "      <td>t</td>\n",
       "      <td>8175569.0</td>\n",
       "      <td>8175549.0</td>\n",
       "    </tr>\n",
       "    <tr>\n",
       "      <th>0</th>\n",
       "      <td>1793</td>\n",
       "      <td>Solar</td>\n",
       "      <td>강민수</td>\n",
       "      <td>KR</td>\n",
       "      <td>Z</td>\n",
       "      <td>8228417.0</td>\n",
       "      <td>Kang Min Soo</td>\n",
       "      <td>129208</td>\n",
       "      <td>Group D</td>\n",
       "      <td>129201.0</td>\n",
       "      <td>...</td>\n",
       "      <td>NaN</td>\n",
       "      <td>2022-03-31</td>\n",
       "      <td>2</td>\n",
       "      <td>2</td>\n",
       "      <td>1</td>\n",
       "      <td>NaN</td>\n",
       "      <td>LotV</td>\n",
       "      <td>t</td>\n",
       "      <td>8144150.0</td>\n",
       "      <td>8155454.0</td>\n",
       "    </tr>\n",
       "    <tr>\n",
       "      <th>37</th>\n",
       "      <td>2</td>\n",
       "      <td>Creator</td>\n",
       "      <td>장현우</td>\n",
       "      <td>KR</td>\n",
       "      <td>P</td>\n",
       "      <td>8228419.0</td>\n",
       "      <td>Jang Hyun Woo</td>\n",
       "      <td>130011</td>\n",
       "      <td>2nd vs 2nd</td>\n",
       "      <td>129203.0</td>\n",
       "      <td>...</td>\n",
       "      <td>NaN</td>\n",
       "      <td>2022-04-25</td>\n",
       "      <td>1662</td>\n",
       "      <td>3</td>\n",
       "      <td>1</td>\n",
       "      <td>NaN</td>\n",
       "      <td>LotV</td>\n",
       "      <td>t</td>\n",
       "      <td>8186087.0</td>\n",
       "      <td>8202010.0</td>\n",
       "    </tr>\n",
       "    <tr>\n",
       "      <th>33</th>\n",
       "      <td>186</td>\n",
       "      <td>Classic</td>\n",
       "      <td>김도우</td>\n",
       "      <td>KR</td>\n",
       "      <td>P</td>\n",
       "      <td>8207386.0</td>\n",
       "      <td>Kim Doh Woo</td>\n",
       "      <td>129205</td>\n",
       "      <td>Group A</td>\n",
       "      <td>129201.0</td>\n",
       "      <td>...</td>\n",
       "      <td>NaN</td>\n",
       "      <td>2022-03-21</td>\n",
       "      <td>4</td>\n",
       "      <td>2</td>\n",
       "      <td>1</td>\n",
       "      <td>NaN</td>\n",
       "      <td>LotV</td>\n",
       "      <td>t</td>\n",
       "      <td>8133139.0</td>\n",
       "      <td>8135507.0</td>\n",
       "    </tr>\n",
       "    <tr>\n",
       "      <th>46</th>\n",
       "      <td>49</td>\n",
       "      <td>Maru</td>\n",
       "      <td>조성주</td>\n",
       "      <td>KR</td>\n",
       "      <td>T</td>\n",
       "      <td>8228293.0</td>\n",
       "      <td>Cho Seong Ju</td>\n",
       "      <td>129206</td>\n",
       "      <td>Group B</td>\n",
       "      <td>129201.0</td>\n",
       "      <td>...</td>\n",
       "      <td>NaN</td>\n",
       "      <td>2022-03-24</td>\n",
       "      <td>35</td>\n",
       "      <td>0</td>\n",
       "      <td>2</td>\n",
       "      <td>NaN</td>\n",
       "      <td>LotV</td>\n",
       "      <td>t</td>\n",
       "      <td>8161629.0</td>\n",
       "      <td>8144823.0</td>\n",
       "    </tr>\n",
       "    <tr>\n",
       "      <th>15</th>\n",
       "      <td>233</td>\n",
       "      <td>herO</td>\n",
       "      <td>김준호</td>\n",
       "      <td>KR</td>\n",
       "      <td>P</td>\n",
       "      <td>8228406.0</td>\n",
       "      <td>Kim Joon Ho</td>\n",
       "      <td>129635</td>\n",
       "      <td>Group B</td>\n",
       "      <td>129202.0</td>\n",
       "      <td>...</td>\n",
       "      <td>NaN</td>\n",
       "      <td>2022-04-14</td>\n",
       "      <td>4</td>\n",
       "      <td>2</td>\n",
       "      <td>1</td>\n",
       "      <td>NaN</td>\n",
       "      <td>LotV</td>\n",
       "      <td>t</td>\n",
       "      <td>8164883.0</td>\n",
       "      <td>8182480.0</td>\n",
       "    </tr>\n",
       "  </tbody>\n",
       "</table>\n",
       "<p>10 rows × 28 columns</p>\n",
       "</div>"
      ],
      "text/plain": [
       "    plb_id      tag name_x country race  current_rating_id  romanized_name  \\\n",
       "43    1517    Bunny    이재선      KR    T          8228410.0     Lee Jae Sun   \n",
       "18     233     herO    김준호      KR    P          8228406.0     Kim Joon Ho   \n",
       "35    2566   Armani    박진혁      KR    Z          8207378.0   Park Jin Hyuk   \n",
       "7     1662    Rogue    이병렬      KR    Z          8228308.0  Lee Byung Ryul   \n",
       "24      35    Ryung    김동원      KR    T          8207374.0    Kim Dong Won   \n",
       "0     1793    Solar    강민수      KR    Z          8228417.0    Kang Min Soo   \n",
       "37       2  Creator    장현우      KR    P          8228419.0   Jang Hyun Woo   \n",
       "33     186  Classic    김도우      KR    P          8207386.0     Kim Doh Woo   \n",
       "46      49     Maru    조성주      KR    T          8228293.0    Cho Seong Ju   \n",
       "15     233     herO    김준호      KR    P          8228406.0     Kim Joon Ho   \n",
       "\n",
       "    eventobj_id      name_y  parent_id  ... wcs_tier        date pla_id sca  \\\n",
       "43       129209     Group E   129201.0  ...      NaN  2022-04-04   1665   2   \n",
       "18       129209     Group E   129201.0  ...      NaN  2022-04-04   1665   1   \n",
       "35       129206     Group B   129201.0  ...      NaN  2022-03-24   1658   2   \n",
       "7        129634     Group A   129202.0  ...      NaN  2022-04-18    177   2   \n",
       "24       129634     Group A   129202.0  ...      NaN  2022-04-11     47   1   \n",
       "0        129208     Group D   129201.0  ...      NaN  2022-03-31      2   2   \n",
       "37       130011  2nd vs 2nd   129203.0  ...      NaN  2022-04-25   1662   3   \n",
       "33       129205     Group A   129201.0  ...      NaN  2022-03-21      4   2   \n",
       "46       129206     Group B   129201.0  ...      NaN  2022-03-24     35   0   \n",
       "15       129635     Group B   129202.0  ...      NaN  2022-04-14      4   2   \n",
       "\n",
       "   scb event  game  offline     rta_id     rtb_id  \n",
       "43   0   NaN  LotV        t  8157155.0  8157154.0  \n",
       "18   2   NaN  LotV        t  8157155.0  8157153.0  \n",
       "35   0   NaN  LotV        t  8144821.0  8160518.0  \n",
       "7    1   NaN  LotV        t  8182532.0  8182533.0  \n",
       "24   2   NaN  LotV        t  8175569.0  8175549.0  \n",
       "0    1   NaN  LotV        t  8144150.0  8155454.0  \n",
       "37   1   NaN  LotV        t  8186087.0  8202010.0  \n",
       "33   1   NaN  LotV        t  8133139.0  8135507.0  \n",
       "46   2   NaN  LotV        t  8161629.0  8144823.0  \n",
       "15   1   NaN  LotV        t  8164883.0  8182480.0  \n",
       "\n",
       "[10 rows x 28 columns]"
      ]
     },
     "execution_count": 28,
     "metadata": {},
     "output_type": "execute_result"
    }
   ],
   "source": [
    "mergedeventsplayers_RDF.sample(10)"
   ]
  },
  {
   "cell_type": "code",
   "execution_count": 29,
   "metadata": {},
   "outputs": [
    {
     "name": "stdout",
     "output_type": "stream",
     "text": [
      "<class 'pandas.core.frame.DataFrame'>\n",
      "Int64Index: 50 entries, 0 to 49\n",
      "Data columns (total 28 columns):\n",
      " #   Column             Non-Null Count  Dtype  \n",
      "---  ------             --------------  -----  \n",
      " 0   plb_id             50 non-null     int64  \n",
      " 1   tag                50 non-null     object \n",
      " 2   name_x             50 non-null     object \n",
      " 3   country            50 non-null     object \n",
      " 4   race               50 non-null     object \n",
      " 5   current_rating_id  50 non-null     float64\n",
      " 6   romanized_name     50 non-null     object \n",
      " 7   eventobj_id        50 non-null     int64  \n",
      " 8   name_y             50 non-null     object \n",
      " 9   parent_id          50 non-null     float64\n",
      " 10  fullname           50 non-null     object \n",
      " 11  prizepool          0 non-null      object \n",
      " 12  earliest           50 non-null     object \n",
      " 13  latest             50 non-null     object \n",
      " 14  category           0 non-null      object \n",
      " 15  type               50 non-null     object \n",
      " 16  idx                50 non-null     int64  \n",
      " 17  wcs_year           0 non-null      float64\n",
      " 18  wcs_tier           0 non-null      float64\n",
      " 19  date               50 non-null     object \n",
      " 20  pla_id             50 non-null     int64  \n",
      " 21  sca                50 non-null     int64  \n",
      " 22  scb                50 non-null     int64  \n",
      " 23  event              0 non-null      object \n",
      " 24  game               50 non-null     object \n",
      " 25  offline            50 non-null     object \n",
      " 26  rta_id             50 non-null     float64\n",
      " 27  rtb_id             50 non-null     float64\n",
      "dtypes: float64(6), int64(6), object(16)\n",
      "memory usage: 11.3+ KB\n"
     ]
    }
   ],
   "source": [
    "mergedeventsplayers_RDF.info()"
   ]
  },
  {
   "cell_type": "code",
   "execution_count": 32,
   "metadata": {},
   "outputs": [],
   "source": [
    "GSLCS_DF = mergedeventsplayers_RDF.drop(['plb_id', 'country', 'parent_id', 'prizepool', 'category', 'type', 'idx', 'wcs_year', 'wcs_tier', 'pla_id', 'game', 'offline'], axis=1)"
   ]
  },
  {
   "cell_type": "code",
   "execution_count": 33,
   "metadata": {},
   "outputs": [
    {
     "name": "stdout",
     "output_type": "stream",
     "text": [
      "<class 'pandas.core.frame.DataFrame'>\n",
      "Int64Index: 50 entries, 0 to 49\n",
      "Data columns (total 16 columns):\n",
      " #   Column             Non-Null Count  Dtype  \n",
      "---  ------             --------------  -----  \n",
      " 0   tag                50 non-null     object \n",
      " 1   name_x             50 non-null     object \n",
      " 2   race               50 non-null     object \n",
      " 3   current_rating_id  50 non-null     float64\n",
      " 4   romanized_name     50 non-null     object \n",
      " 5   eventobj_id        50 non-null     int64  \n",
      " 6   name_y             50 non-null     object \n",
      " 7   fullname           50 non-null     object \n",
      " 8   earliest           50 non-null     object \n",
      " 9   latest             50 non-null     object \n",
      " 10  date               50 non-null     object \n",
      " 11  sca                50 non-null     int64  \n",
      " 12  scb                50 non-null     int64  \n",
      " 13  event              0 non-null      object \n",
      " 14  rta_id             50 non-null     float64\n",
      " 15  rtb_id             50 non-null     float64\n",
      "dtypes: float64(3), int64(3), object(10)\n",
      "memory usage: 6.6+ KB\n"
     ]
    }
   ],
   "source": [
    "GSLCS_DF.info()"
   ]
  },
  {
   "cell_type": "code",
   "execution_count": 34,
   "metadata": {},
   "outputs": [
    {
     "data": {
      "text/html": [
       "<div>\n",
       "<style scoped>\n",
       "    .dataframe tbody tr th:only-of-type {\n",
       "        vertical-align: middle;\n",
       "    }\n",
       "\n",
       "    .dataframe tbody tr th {\n",
       "        vertical-align: top;\n",
       "    }\n",
       "\n",
       "    .dataframe thead th {\n",
       "        text-align: right;\n",
       "    }\n",
       "</style>\n",
       "<table border=\"1\" class=\"dataframe\">\n",
       "  <thead>\n",
       "    <tr style=\"text-align: right;\">\n",
       "      <th></th>\n",
       "      <th>tag</th>\n",
       "      <th>name_x</th>\n",
       "      <th>race</th>\n",
       "      <th>current_rating_id</th>\n",
       "      <th>romanized_name</th>\n",
       "      <th>eventobj_id</th>\n",
       "      <th>name_y</th>\n",
       "      <th>fullname</th>\n",
       "      <th>earliest</th>\n",
       "      <th>latest</th>\n",
       "      <th>date</th>\n",
       "      <th>sca</th>\n",
       "      <th>scb</th>\n",
       "      <th>event</th>\n",
       "      <th>rta_id</th>\n",
       "      <th>rtb_id</th>\n",
       "    </tr>\n",
       "  </thead>\n",
       "  <tbody>\n",
       "    <tr>\n",
       "      <th>40</th>\n",
       "      <td>ByuN</td>\n",
       "      <td>변현우</td>\n",
       "      <td>T</td>\n",
       "      <td>8228451.0</td>\n",
       "      <td>Byun Hyun Woo</td>\n",
       "      <td>129207</td>\n",
       "      <td>Group C</td>\n",
       "      <td>GSL 2022 Season 1 Code S Group Stage 1 Group C</td>\n",
       "      <td>2022-03-28</td>\n",
       "      <td>2022-03-28</td>\n",
       "      <td>2022-03-28</td>\n",
       "      <td>0</td>\n",
       "      <td>2</td>\n",
       "      <td>NaN</td>\n",
       "      <td>8161604.0</td>\n",
       "      <td>8157149.0</td>\n",
       "    </tr>\n",
       "    <tr>\n",
       "      <th>8</th>\n",
       "      <td>NightMare</td>\n",
       "      <td>장욱</td>\n",
       "      <td>P</td>\n",
       "      <td>8228412.0</td>\n",
       "      <td>Jang Wook</td>\n",
       "      <td>129207</td>\n",
       "      <td>Group C</td>\n",
       "      <td>GSL 2022 Season 1 Code S Group Stage 1 Group C</td>\n",
       "      <td>2022-03-28</td>\n",
       "      <td>2022-03-28</td>\n",
       "      <td>2022-03-28</td>\n",
       "      <td>2</td>\n",
       "      <td>1</td>\n",
       "      <td>NaN</td>\n",
       "      <td>8161754.0</td>\n",
       "      <td>8160520.0</td>\n",
       "    </tr>\n",
       "    <tr>\n",
       "      <th>14</th>\n",
       "      <td>herO</td>\n",
       "      <td>김준호</td>\n",
       "      <td>P</td>\n",
       "      <td>8228406.0</td>\n",
       "      <td>Kim Joon Ho</td>\n",
       "      <td>129635</td>\n",
       "      <td>Group B</td>\n",
       "      <td>GSL 2022 Season 1 Code S Group Stage 2 Group B</td>\n",
       "      <td>2022-04-14</td>\n",
       "      <td>2022-04-21</td>\n",
       "      <td>2022-04-14</td>\n",
       "      <td>1</td>\n",
       "      <td>2</td>\n",
       "      <td>NaN</td>\n",
       "      <td>8164893.0</td>\n",
       "      <td>8182480.0</td>\n",
       "    </tr>\n",
       "    <tr>\n",
       "      <th>15</th>\n",
       "      <td>herO</td>\n",
       "      <td>김준호</td>\n",
       "      <td>P</td>\n",
       "      <td>8228406.0</td>\n",
       "      <td>Kim Joon Ho</td>\n",
       "      <td>129635</td>\n",
       "      <td>Group B</td>\n",
       "      <td>GSL 2022 Season 1 Code S Group Stage 2 Group B</td>\n",
       "      <td>2022-04-14</td>\n",
       "      <td>2022-04-21</td>\n",
       "      <td>2022-04-14</td>\n",
       "      <td>2</td>\n",
       "      <td>1</td>\n",
       "      <td>NaN</td>\n",
       "      <td>8164883.0</td>\n",
       "      <td>8182480.0</td>\n",
       "    </tr>\n",
       "    <tr>\n",
       "      <th>6</th>\n",
       "      <td>Rogue</td>\n",
       "      <td>이병렬</td>\n",
       "      <td>Z</td>\n",
       "      <td>8228308.0</td>\n",
       "      <td>Lee Byung Ryul</td>\n",
       "      <td>129634</td>\n",
       "      <td>Group A</td>\n",
       "      <td>GSL 2022 Season 1 Code S Group Stage 2 Group A</td>\n",
       "      <td>2022-04-11</td>\n",
       "      <td>2022-04-18</td>\n",
       "      <td>2022-04-18</td>\n",
       "      <td>1</td>\n",
       "      <td>2</td>\n",
       "      <td>NaN</td>\n",
       "      <td>8175569.0</td>\n",
       "      <td>8182533.0</td>\n",
       "    </tr>\n",
       "    <tr>\n",
       "      <th>0</th>\n",
       "      <td>Solar</td>\n",
       "      <td>강민수</td>\n",
       "      <td>Z</td>\n",
       "      <td>8228417.0</td>\n",
       "      <td>Kang Min Soo</td>\n",
       "      <td>129208</td>\n",
       "      <td>Group D</td>\n",
       "      <td>GSL 2022 Season 1 Code S Group Stage 1 Group D</td>\n",
       "      <td>2022-03-31</td>\n",
       "      <td>2022-03-31</td>\n",
       "      <td>2022-03-31</td>\n",
       "      <td>2</td>\n",
       "      <td>1</td>\n",
       "      <td>NaN</td>\n",
       "      <td>8144150.0</td>\n",
       "      <td>8155454.0</td>\n",
       "    </tr>\n",
       "    <tr>\n",
       "      <th>2</th>\n",
       "      <td>Zoun</td>\n",
       "      <td>박한솔</td>\n",
       "      <td>P</td>\n",
       "      <td>8207383.0</td>\n",
       "      <td>Park Han Sol</td>\n",
       "      <td>129207</td>\n",
       "      <td>Group C</td>\n",
       "      <td>GSL 2022 Season 1 Code S Group Stage 1 Group C</td>\n",
       "      <td>2022-03-28</td>\n",
       "      <td>2022-03-28</td>\n",
       "      <td>2022-03-28</td>\n",
       "      <td>0</td>\n",
       "      <td>2</td>\n",
       "      <td>NaN</td>\n",
       "      <td>8157149.0</td>\n",
       "      <td>8161604.0</td>\n",
       "    </tr>\n",
       "    <tr>\n",
       "      <th>12</th>\n",
       "      <td>RagnaroK</td>\n",
       "      <td>신희범</td>\n",
       "      <td>Z</td>\n",
       "      <td>8207380.0</td>\n",
       "      <td>Shin Hee Bum</td>\n",
       "      <td>129634</td>\n",
       "      <td>Group A</td>\n",
       "      <td>GSL 2022 Season 1 Code S Group Stage 2 Group A</td>\n",
       "      <td>2022-04-11</td>\n",
       "      <td>2022-04-18</td>\n",
       "      <td>2022-04-18</td>\n",
       "      <td>2</td>\n",
       "      <td>0</td>\n",
       "      <td>NaN</td>\n",
       "      <td>8175569.0</td>\n",
       "      <td>8175563.0</td>\n",
       "    </tr>\n",
       "    <tr>\n",
       "      <th>4</th>\n",
       "      <td>Zest</td>\n",
       "      <td>주성욱</td>\n",
       "      <td>P</td>\n",
       "      <td>8228447.0</td>\n",
       "      <td>Joo Sung Wook</td>\n",
       "      <td>129206</td>\n",
       "      <td>Group B</td>\n",
       "      <td>GSL 2022 Season 1 Code S Group Stage 1 Group B</td>\n",
       "      <td>2022-03-24</td>\n",
       "      <td>2022-03-24</td>\n",
       "      <td>2022-03-24</td>\n",
       "      <td>2</td>\n",
       "      <td>1</td>\n",
       "      <td>NaN</td>\n",
       "      <td>8161629.0</td>\n",
       "      <td>8144821.0</td>\n",
       "    </tr>\n",
       "    <tr>\n",
       "      <th>22</th>\n",
       "      <td>Ryung</td>\n",
       "      <td>김동원</td>\n",
       "      <td>T</td>\n",
       "      <td>8207374.0</td>\n",
       "      <td>Kim Dong Won</td>\n",
       "      <td>129206</td>\n",
       "      <td>Group B</td>\n",
       "      <td>GSL 2022 Season 1 Code S Group Stage 1 Group B</td>\n",
       "      <td>2022-03-24</td>\n",
       "      <td>2022-03-24</td>\n",
       "      <td>2022-03-24</td>\n",
       "      <td>0</td>\n",
       "      <td>2</td>\n",
       "      <td>NaN</td>\n",
       "      <td>8144821.0</td>\n",
       "      <td>8161629.0</td>\n",
       "    </tr>\n",
       "  </tbody>\n",
       "</table>\n",
       "</div>"
      ],
      "text/plain": [
       "          tag name_x race  current_rating_id  romanized_name  eventobj_id  \\\n",
       "40       ByuN    변현우    T          8228451.0   Byun Hyun Woo       129207   \n",
       "8   NightMare     장욱    P          8228412.0       Jang Wook       129207   \n",
       "14       herO    김준호    P          8228406.0     Kim Joon Ho       129635   \n",
       "15       herO    김준호    P          8228406.0     Kim Joon Ho       129635   \n",
       "6       Rogue    이병렬    Z          8228308.0  Lee Byung Ryul       129634   \n",
       "0       Solar    강민수    Z          8228417.0    Kang Min Soo       129208   \n",
       "2        Zoun    박한솔    P          8207383.0    Park Han Sol       129207   \n",
       "12   RagnaroK    신희범    Z          8207380.0    Shin Hee Bum       129634   \n",
       "4        Zest    주성욱    P          8228447.0   Joo Sung Wook       129206   \n",
       "22      Ryung    김동원    T          8207374.0    Kim Dong Won       129206   \n",
       "\n",
       "     name_y                                        fullname    earliest  \\\n",
       "40  Group C  GSL 2022 Season 1 Code S Group Stage 1 Group C  2022-03-28   \n",
       "8   Group C  GSL 2022 Season 1 Code S Group Stage 1 Group C  2022-03-28   \n",
       "14  Group B  GSL 2022 Season 1 Code S Group Stage 2 Group B  2022-04-14   \n",
       "15  Group B  GSL 2022 Season 1 Code S Group Stage 2 Group B  2022-04-14   \n",
       "6   Group A  GSL 2022 Season 1 Code S Group Stage 2 Group A  2022-04-11   \n",
       "0   Group D  GSL 2022 Season 1 Code S Group Stage 1 Group D  2022-03-31   \n",
       "2   Group C  GSL 2022 Season 1 Code S Group Stage 1 Group C  2022-03-28   \n",
       "12  Group A  GSL 2022 Season 1 Code S Group Stage 2 Group A  2022-04-11   \n",
       "4   Group B  GSL 2022 Season 1 Code S Group Stage 1 Group B  2022-03-24   \n",
       "22  Group B  GSL 2022 Season 1 Code S Group Stage 1 Group B  2022-03-24   \n",
       "\n",
       "        latest        date  sca  scb event     rta_id     rtb_id  \n",
       "40  2022-03-28  2022-03-28    0    2   NaN  8161604.0  8157149.0  \n",
       "8   2022-03-28  2022-03-28    2    1   NaN  8161754.0  8160520.0  \n",
       "14  2022-04-21  2022-04-14    1    2   NaN  8164893.0  8182480.0  \n",
       "15  2022-04-21  2022-04-14    2    1   NaN  8164883.0  8182480.0  \n",
       "6   2022-04-18  2022-04-18    1    2   NaN  8175569.0  8182533.0  \n",
       "0   2022-03-31  2022-03-31    2    1   NaN  8144150.0  8155454.0  \n",
       "2   2022-03-28  2022-03-28    0    2   NaN  8157149.0  8161604.0  \n",
       "12  2022-04-18  2022-04-18    2    0   NaN  8175569.0  8175563.0  \n",
       "4   2022-03-24  2022-03-24    2    1   NaN  8161629.0  8144821.0  \n",
       "22  2022-03-24  2022-03-24    0    2   NaN  8144821.0  8161629.0  "
      ]
     },
     "execution_count": 34,
     "metadata": {},
     "output_type": "execute_result"
    }
   ],
   "source": [
    "GSLCS_DF.sample(10)"
   ]
  },
  {
   "cell_type": "code",
   "execution_count": 35,
   "metadata": {
    "tags": []
   },
   "outputs": [],
   "source": [
    "import jovian"
   ]
  },
  {
   "cell_type": "code",
   "execution_count": 37,
   "metadata": {},
   "outputs": [
    {
     "data": {
      "application/javascript": [
       "window.require && require([\"base/js/namespace\"],function(Jupyter){Jupyter.notebook.save_checkpoint()})"
      ],
      "text/plain": [
       "<IPython.core.display.Javascript object>"
      ]
     },
     "metadata": {},
     "output_type": "display_data"
    },
    {
     "name": "stdout",
     "output_type": "stream",
     "text": [
      "[jovian] Updating notebook \"zoibderg/gsl-season-one-code-s\" on https://jovian.ai/\u001b[0m\n",
      "[jovian] Committed successfully! https://jovian.ai/zoibderg/gsl-season-one-code-s\u001b[0m\n"
     ]
    },
    {
     "data": {
      "text/plain": [
       "'https://jovian.ai/zoibderg/gsl-season-one-code-s'"
      ]
     },
     "execution_count": 37,
     "metadata": {},
     "output_type": "execute_result"
    }
   ],
   "source": [
    "jovian.commit(project=project_name, filename=project_file)"
   ]
  },
  {
   "cell_type": "markdown",
   "metadata": {},
   "source": [
    "## Exploratory Analysis and Visualization\n",
    "\n",
    "**TODO** - write some explanation here.\n",
    "\n"
   ]
  },
  {
   "cell_type": "markdown",
   "metadata": {},
   "source": [
    "> Instructions (delete this cell)\n",
    "> \n",
    "> - Compute the mean, sum, range and other interesting statistics for numeric columns\n",
    "> - Explore distributions of numeric columns using histograms etc.\n",
    "> - Explore relationship between columns using scatter plots, bar charts etc.\n",
    "> - Make a note of interesting insights from the exploratory analysis"
   ]
  },
  {
   "cell_type": "markdown",
   "metadata": {},
   "source": [
    "Let's begin by importing`matplotlib.pyplot` and `seaborn`."
   ]
  },
  {
   "cell_type": "code",
   "execution_count": null,
   "metadata": {},
   "outputs": [],
   "source": [
    "import seaborn as sns\n",
    "import matplotlib\n",
    "import matplotlib.pyplot as plt\n",
    "%matplotlib inline\n",
    "\n",
    "sns.set_style('darkgrid')\n",
    "matplotlib.rcParams['font.size'] = 14\n",
    "matplotlib.rcParams['figure.figsize'] = (9, 5)\n",
    "matplotlib.rcParams['figure.facecolor'] = '#00000000'"
   ]
  },
  {
   "cell_type": "markdown",
   "metadata": {},
   "source": [
    "**TODO** - Explore one or more columns by plotting a graph below, and add some explanation about it"
   ]
  },
  {
   "cell_type": "code",
   "execution_count": null,
   "metadata": {},
   "outputs": [],
   "source": []
  },
  {
   "cell_type": "code",
   "execution_count": null,
   "metadata": {},
   "outputs": [],
   "source": []
  },
  {
   "cell_type": "markdown",
   "metadata": {},
   "source": [
    "**TODO** - Explore one or more columns by plotting a graph below, and add some explanation about it"
   ]
  },
  {
   "cell_type": "code",
   "execution_count": null,
   "metadata": {},
   "outputs": [],
   "source": []
  },
  {
   "cell_type": "code",
   "execution_count": null,
   "metadata": {},
   "outputs": [],
   "source": []
  },
  {
   "cell_type": "markdown",
   "metadata": {},
   "source": [
    "**TODO** - Explore one or more columns by plotting a graph below, and add some explanation about it"
   ]
  },
  {
   "cell_type": "code",
   "execution_count": null,
   "metadata": {},
   "outputs": [],
   "source": []
  },
  {
   "cell_type": "code",
   "execution_count": null,
   "metadata": {},
   "outputs": [],
   "source": []
  },
  {
   "cell_type": "markdown",
   "metadata": {},
   "source": [
    "**TODO** - Explore one or more columns by plotting a graph below, and add some explanation about it"
   ]
  },
  {
   "cell_type": "code",
   "execution_count": null,
   "metadata": {},
   "outputs": [],
   "source": []
  },
  {
   "cell_type": "code",
   "execution_count": null,
   "metadata": {},
   "outputs": [],
   "source": []
  },
  {
   "cell_type": "markdown",
   "metadata": {},
   "source": [
    "**TODO** - Explore one or more columns by plotting a graph below, and add some explanation about it"
   ]
  },
  {
   "cell_type": "code",
   "execution_count": null,
   "metadata": {},
   "outputs": [],
   "source": []
  },
  {
   "cell_type": "code",
   "execution_count": null,
   "metadata": {},
   "outputs": [],
   "source": []
  },
  {
   "cell_type": "markdown",
   "metadata": {},
   "source": [
    "Let us save and upload our work to Jovian before continuing"
   ]
  },
  {
   "cell_type": "code",
   "execution_count": null,
   "metadata": {},
   "outputs": [],
   "source": [
    "import jovian"
   ]
  },
  {
   "cell_type": "code",
   "execution_count": null,
   "metadata": {},
   "outputs": [],
   "source": [
    "jovian.commit()"
   ]
  },
  {
   "cell_type": "markdown",
   "metadata": {},
   "source": [
    "## Asking and Answering Questions\n",
    "\n",
    "TODO - write some explanation here.\n",
    "\n"
   ]
  },
  {
   "cell_type": "markdown",
   "metadata": {},
   "source": [
    "> Instructions (delete this cell)\n",
    ">\n",
    "> - Ask at least 5 interesting questions about your dataset\n",
    "> - Answer the questions either by computing the results using Numpy/Pandas or by plotting graphs using Matplotlib/Seaborn\n",
    "> - Create new columns, merge multiple dataset and perform grouping/aggregation wherever necessary\n",
    "> - Wherever you're using a library function from Pandas/Numpy/Matplotlib etc. explain briefly what it does\n",
    "\n"
   ]
  },
  {
   "cell_type": "markdown",
   "metadata": {},
   "source": [
    "#### Q1: TODO - ask a question here and answer it below"
   ]
  },
  {
   "cell_type": "code",
   "execution_count": null,
   "metadata": {},
   "outputs": [],
   "source": []
  },
  {
   "cell_type": "code",
   "execution_count": null,
   "metadata": {},
   "outputs": [],
   "source": []
  },
  {
   "cell_type": "code",
   "execution_count": null,
   "metadata": {},
   "outputs": [],
   "source": []
  },
  {
   "cell_type": "markdown",
   "metadata": {},
   "source": [
    "#### Q2: TODO - ask a question here and answer it below"
   ]
  },
  {
   "cell_type": "code",
   "execution_count": null,
   "metadata": {},
   "outputs": [],
   "source": []
  },
  {
   "cell_type": "code",
   "execution_count": null,
   "metadata": {},
   "outputs": [],
   "source": []
  },
  {
   "cell_type": "code",
   "execution_count": null,
   "metadata": {},
   "outputs": [],
   "source": []
  },
  {
   "cell_type": "markdown",
   "metadata": {},
   "source": [
    "#### Q3: TODO - ask a question here and answer it below"
   ]
  },
  {
   "cell_type": "code",
   "execution_count": null,
   "metadata": {},
   "outputs": [],
   "source": []
  },
  {
   "cell_type": "code",
   "execution_count": null,
   "metadata": {},
   "outputs": [],
   "source": []
  },
  {
   "cell_type": "code",
   "execution_count": null,
   "metadata": {},
   "outputs": [],
   "source": []
  },
  {
   "cell_type": "markdown",
   "metadata": {},
   "source": [
    "#### Q4: TODO - ask a question here and answer it below"
   ]
  },
  {
   "cell_type": "code",
   "execution_count": null,
   "metadata": {},
   "outputs": [],
   "source": []
  },
  {
   "cell_type": "code",
   "execution_count": null,
   "metadata": {},
   "outputs": [],
   "source": []
  },
  {
   "cell_type": "code",
   "execution_count": null,
   "metadata": {},
   "outputs": [],
   "source": []
  },
  {
   "cell_type": "markdown",
   "metadata": {},
   "source": [
    "#### Q5: TODO - ask a question here and answer it below"
   ]
  },
  {
   "cell_type": "code",
   "execution_count": null,
   "metadata": {},
   "outputs": [],
   "source": []
  },
  {
   "cell_type": "code",
   "execution_count": null,
   "metadata": {},
   "outputs": [],
   "source": []
  },
  {
   "cell_type": "code",
   "execution_count": null,
   "metadata": {},
   "outputs": [],
   "source": []
  },
  {
   "cell_type": "markdown",
   "metadata": {},
   "source": [
    "Let us save and upload our work to Jovian before continuing."
   ]
  },
  {
   "cell_type": "code",
   "execution_count": null,
   "metadata": {},
   "outputs": [],
   "source": [
    "import jovian"
   ]
  },
  {
   "cell_type": "code",
   "execution_count": null,
   "metadata": {},
   "outputs": [],
   "source": [
    "jovian.commit()"
   ]
  },
  {
   "cell_type": "markdown",
   "metadata": {},
   "source": [
    "## Inferences and Conclusion\n",
    "\n",
    "**TODO** - Write some explanation here: a summary of all the inferences drawn from the analysis, and any conclusions you may have drawn by answering various questions."
   ]
  },
  {
   "cell_type": "code",
   "execution_count": null,
   "metadata": {},
   "outputs": [],
   "source": [
    "import jovian"
   ]
  },
  {
   "cell_type": "code",
   "execution_count": null,
   "metadata": {},
   "outputs": [],
   "source": [
    "jovian.commit()"
   ]
  },
  {
   "cell_type": "markdown",
   "metadata": {},
   "source": [
    "## References and Future Work\n",
    "\n",
    "**TODO** - Write some explanation here: ideas for future projects using this dataset, and links to resources you found useful."
   ]
  },
  {
   "cell_type": "markdown",
   "metadata": {},
   "source": [
    "> Submission Instructions (delete this cell)\n",
    "> \n",
    "> - Upload your notebook to your Jovian.ml profile using `jovian.commit`.\n",
    "> - **Make a submission here**: https://jovian.ml/learn/data-analysis-with-python-zero-to-pandas/assignment/course-project\n",
    "> - Share your work on the forum: https://jovian.ml/forum/t/course-project-on-exploratory-data-analysis-discuss-and-share-your-work/11684\n",
    "> - Share your work on social media (Twitter, LinkedIn, Telegram etc.) and tag [@JovianML](https://twitter.com/jovianml)\n",
    ">\n",
    "> (Optional) Write a blog post\n",
    "> \n",
    "> - A blog post is a great way to present and showcase your work.  \n",
    "> - Sign up on [Medium.com](https://medium.com) to write a blog post for your project.\n",
    "> - Copy over the explanations from your Jupyter notebook into your blog post, and [embed code cells & outputs](https://medium.com/jovianml/share-and-embed-jupyter-notebooks-online-with-jovian-ml-df709a03064e)\n",
    "> - Check out the Jovian.ml Medium publication for inspiration: https://medium.com/jovianml\n",
    "\n",
    "\n",
    " "
   ]
  },
  {
   "cell_type": "code",
   "execution_count": null,
   "metadata": {},
   "outputs": [],
   "source": [
    "import jovian"
   ]
  },
  {
   "cell_type": "code",
   "execution_count": null,
   "metadata": {
    "scrolled": true
   },
   "outputs": [],
   "source": [
    "jovian.commit()"
   ]
  },
  {
   "cell_type": "code",
   "execution_count": null,
   "metadata": {},
   "outputs": [],
   "source": []
  }
 ],
 "metadata": {
  "interpreter": {
   "hash": "ce5d4c5ce0eae8759d521230ff7b88377fa62fb91656e5c2966f4bb1fdd362b7"
  },
  "kernelspec": {
   "display_name": "Python 3 (ipykernel)",
   "language": "python",
   "name": "python3"
  },
  "language_info": {
   "codemirror_mode": {
    "name": "ipython",
    "version": 3
   },
   "file_extension": ".py",
   "mimetype": "text/x-python",
   "name": "python",
   "nbconvert_exporter": "python",
   "pygments_lexer": "ipython3",
   "version": "3.9.12"
  },
  "toc-autonumbering": true,
  "toc-showcode": false,
  "toc-showmarkdowntxt": false,
  "toc-showtags": false
 },
 "nbformat": 4,
 "nbformat_minor": 4
}
