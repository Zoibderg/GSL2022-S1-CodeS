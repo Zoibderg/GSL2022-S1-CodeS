{
 "cells": [
  {
   "cell_type": "markdown",
   "metadata": {},
   "source": [
    "# Project Title - change this\n",
    "\n",
    "TODO - Write some introduction about your project here: describe the dataset, where you got it from, what you're trying to do with it, and which tools & techniques you're using. You can also mention about the course [Data Analysis with Python: Zero to Pandas](zerotopandas.com), and what you've learned from it."
   ]
  },
  {
   "cell_type": "code",
   "execution_count": 1,
   "metadata": {},
   "outputs": [],
   "source": [
    "# directory of datasets\n",
    "data_dir = './csv_datasets'"
   ]
  },
  {
   "cell_type": "code",
   "execution_count": 2,
   "metadata": {},
   "outputs": [
    {
     "data": {
      "text/plain": [
       "['player.csv', '.DS_Store', 'match.csv', 'eventadjacency.csv', 'event.csv']"
      ]
     },
     "execution_count": 2,
     "metadata": {},
     "output_type": "execute_result"
    }
   ],
   "source": [
    "import os\n",
    "os.listdir(data_dir)"
   ]
  },
  {
   "cell_type": "markdown",
   "metadata": {},
   "source": [
    "Let us save and upload our work to Jovian before continuing."
   ]
  },
  {
   "cell_type": "code",
   "execution_count": 3,
   "metadata": {},
   "outputs": [],
   "source": [
    "project_name = \"gsl-season-one-code-s\"\n",
    "project_file = 'gsl-season-one-code-s.ipynb'"
   ]
  },
  {
   "cell_type": "code",
   "execution_count": 4,
   "metadata": {},
   "outputs": [
    {
     "name": "stdout",
     "output_type": "stream",
     "text": [
      "Note: you may need to restart the kernel to use updated packages.\n"
     ]
    }
   ],
   "source": [
    "%pip install jovian --upgrade -q"
   ]
  },
  {
   "cell_type": "code",
   "execution_count": 5,
   "metadata": {},
   "outputs": [
    {
     "data": {
      "application/javascript": [
       "if (window.IPython && IPython.notebook.kernel) IPython.notebook.kernel.execute('jovian.utils.jupyter.get_notebook_name_saved = lambda: \"' + IPython.notebook.notebook_name + '\"')"
      ],
      "text/plain": [
       "<IPython.core.display.Javascript object>"
      ]
     },
     "metadata": {},
     "output_type": "display_data"
    }
   ],
   "source": [
    "import jovian"
   ]
  },
  {
   "cell_type": "code",
   "execution_count": 6,
   "metadata": {},
   "outputs": [],
   "source": [
    "# jovian.commit(project=project_name, filename=project_file)"
   ]
  },
  {
   "cell_type": "markdown",
   "metadata": {},
   "source": [
    "## Data Preparation and Cleaning\n",
    "\n",
    "**TODO** - Write some explanation here.\n",
    "\n"
   ]
  },
  {
   "cell_type": "markdown",
   "metadata": {},
   "source": [
    "> Instructions (delete this cell):\n",
    ">\n",
    "> - Load the dataset into a data frame using Pandas\n",
    "> - Explore the number of rows & columns, ranges of values etc.\n",
    "> - Handle missing, incorrect and invalid data\n",
    "> - Perform any additional steps (parsing dates, creating additional columns, merging multiple dataset etc.)"
   ]
  },
  {
   "cell_type": "code",
   "execution_count": 7,
   "metadata": {},
   "outputs": [],
   "source": [
    "import pandas as pd"
   ]
  },
  {
   "cell_type": "code",
   "execution_count": 8,
   "metadata": {},
   "outputs": [],
   "source": [
    "# import raw data frames from csv\n",
    "events_RDF = pd.read_csv(f'{data_dir}/event.csv')\n",
    "eventadjacency_RDF = pd.read_csv(f'{data_dir}/eventadjacency.csv')\n",
    "matches_RDF = pd.read_csv(f'{data_dir}/match.csv')\n",
    "players_RDF = pd.read_csv(f'{data_dir}/player.csv')"
   ]
  },
  {
   "cell_type": "code",
   "execution_count": 9,
   "metadata": {},
   "outputs": [
    {
     "name": "stdout",
     "output_type": "stream",
     "text": [
      "<class 'pandas.core.frame.DataFrame'>\n",
      "RangeIndex: 125344 entries, 0 to 125343\n",
      "Data columns (total 11 columns):\n",
      " #   Column     Non-Null Count   Dtype  \n",
      "---  ------     --------------   -----  \n",
      " 0   name       125321 non-null  object \n",
      " 1   parent_id  124166 non-null  float64\n",
      " 2   fullname   125344 non-null  object \n",
      " 3   prizepool  13032 non-null   object \n",
      " 4   earliest   123468 non-null  object \n",
      " 5   latest     123468 non-null  object \n",
      " 6   category   245 non-null     object \n",
      " 7   type       125344 non-null  object \n",
      " 8   idx        125344 non-null  int64  \n",
      " 9   wcs_year   105 non-null     float64\n",
      " 10  wcs_tier   105 non-null     float64\n",
      "dtypes: float64(3), int64(1), object(7)\n",
      "memory usage: 10.5+ MB\n"
     ]
    }
   ],
   "source": [
    "# explore and clean events\n",
    "events_RDF.drop(['id', 'lft', 'rgt', 'closed', 'big', \n",
    "                'noprint', 'lp_name', 'tlpd_id', 'tlpd_db', \n",
    "                'tl_thread', 'homepage'], axis=1, inplace=True)\n",
    "\n",
    "events_RDF.info()"
   ]
  },
  {
   "cell_type": "code",
   "execution_count": 10,
   "metadata": {},
   "outputs": [
    {
     "data": {
      "text/html": [
       "<div>\n",
       "<style scoped>\n",
       "    .dataframe tbody tr th:only-of-type {\n",
       "        vertical-align: middle;\n",
       "    }\n",
       "\n",
       "    .dataframe tbody tr th {\n",
       "        vertical-align: top;\n",
       "    }\n",
       "\n",
       "    .dataframe thead th {\n",
       "        text-align: right;\n",
       "    }\n",
       "</style>\n",
       "<table border=\"1\" class=\"dataframe\">\n",
       "  <thead>\n",
       "    <tr style=\"text-align: right;\">\n",
       "      <th></th>\n",
       "      <th>name</th>\n",
       "      <th>parent_id</th>\n",
       "      <th>fullname</th>\n",
       "      <th>prizepool</th>\n",
       "      <th>earliest</th>\n",
       "      <th>latest</th>\n",
       "      <th>category</th>\n",
       "      <th>type</th>\n",
       "      <th>idx</th>\n",
       "      <th>wcs_year</th>\n",
       "      <th>wcs_tier</th>\n",
       "    </tr>\n",
       "  </thead>\n",
       "  <tbody>\n",
       "    <tr>\n",
       "      <th>20791</th>\n",
       "      <td>Gravity-Flipsid3 vs. Team Ascension</td>\n",
       "      <td>43980.0</td>\n",
       "      <td>SHOUTcraft Clan Wars Season 2 Gravity-Flipsid3...</td>\n",
       "      <td>NaN</td>\n",
       "      <td>2015-07-11</td>\n",
       "      <td>2015-07-11</td>\n",
       "      <td>NaN</td>\n",
       "      <td>round</td>\n",
       "      <td>100904</td>\n",
       "      <td>NaN</td>\n",
       "      <td>NaN</td>\n",
       "    </tr>\n",
       "    <tr>\n",
       "      <th>78925</th>\n",
       "      <td>Ro4</td>\n",
       "      <td>66423.0</td>\n",
       "      <td>PLAYzone Saturday Cup HotS Season 1 #3 WB Ro4</td>\n",
       "      <td>NaN</td>\n",
       "      <td>2013-04-20</td>\n",
       "      <td>2013-04-20</td>\n",
       "      <td>NaN</td>\n",
       "      <td>round</td>\n",
       "      <td>77847</td>\n",
       "      <td>NaN</td>\n",
       "      <td>NaN</td>\n",
       "    </tr>\n",
       "    <tr>\n",
       "      <th>117238</th>\n",
       "      <td>Ro8</td>\n",
       "      <td>49553.0</td>\n",
       "      <td>OlimoLeague 2015 October Weekly #41 Ro8</td>\n",
       "      <td>NaN</td>\n",
       "      <td>2015-10-09</td>\n",
       "      <td>2015-10-09</td>\n",
       "      <td>NaN</td>\n",
       "      <td>round</td>\n",
       "      <td>72766</td>\n",
       "      <td>NaN</td>\n",
       "      <td>NaN</td>\n",
       "    </tr>\n",
       "    <tr>\n",
       "      <th>97818</th>\n",
       "      <td>#1</td>\n",
       "      <td>12923.0</td>\n",
       "      <td>XILENCE and Plantronics Cup HotS #1</td>\n",
       "      <td>f</td>\n",
       "      <td>2013-03-15</td>\n",
       "      <td>2013-03-15</td>\n",
       "      <td>NaN</td>\n",
       "      <td>event</td>\n",
       "      <td>123511</td>\n",
       "      <td>NaN</td>\n",
       "      <td>NaN</td>\n",
       "    </tr>\n",
       "    <tr>\n",
       "      <th>62170</th>\n",
       "      <td>ReG Gaming vs. Team ALTERNATE</td>\n",
       "      <td>29669.0</td>\n",
       "      <td>WardiTV Team League Season 2 Division 1 B Week...</td>\n",
       "      <td>NaN</td>\n",
       "      <td>2014-04-25</td>\n",
       "      <td>2014-04-25</td>\n",
       "      <td>NaN</td>\n",
       "      <td>round</td>\n",
       "      <td>112364</td>\n",
       "      <td>NaN</td>\n",
       "      <td>NaN</td>\n",
       "    </tr>\n",
       "  </tbody>\n",
       "</table>\n",
       "</div>"
      ],
      "text/plain": [
       "                                       name  parent_id  \\\n",
       "20791   Gravity-Flipsid3 vs. Team Ascension    43980.0   \n",
       "78925                                   Ro4    66423.0   \n",
       "117238                                  Ro8    49553.0   \n",
       "97818                                    #1    12923.0   \n",
       "62170         ReG Gaming vs. Team ALTERNATE    29669.0   \n",
       "\n",
       "                                                 fullname prizepool  \\\n",
       "20791   SHOUTcraft Clan Wars Season 2 Gravity-Flipsid3...       NaN   \n",
       "78925       PLAYzone Saturday Cup HotS Season 1 #3 WB Ro4       NaN   \n",
       "117238            OlimoLeague 2015 October Weekly #41 Ro8       NaN   \n",
       "97818                 XILENCE and Plantronics Cup HotS #1         f   \n",
       "62170   WardiTV Team League Season 2 Division 1 B Week...       NaN   \n",
       "\n",
       "          earliest      latest category   type     idx  wcs_year  wcs_tier  \n",
       "20791   2015-07-11  2015-07-11      NaN  round  100904       NaN       NaN  \n",
       "78925   2013-04-20  2013-04-20      NaN  round   77847       NaN       NaN  \n",
       "117238  2015-10-09  2015-10-09      NaN  round   72766       NaN       NaN  \n",
       "97818   2013-03-15  2013-03-15      NaN  event  123511       NaN       NaN  \n",
       "62170   2014-04-25  2014-04-25      NaN  round  112364       NaN       NaN  "
      ]
     },
     "execution_count": 10,
     "metadata": {},
     "output_type": "execute_result"
    }
   ],
   "source": [
    "events_RDF.sample(5)"
   ]
  },
  {
   "cell_type": "markdown",
   "metadata": {},
   "source": [
    "Taking a look at event adjacency, it looks like this might not be useful for us. "
   ]
  },
  {
   "cell_type": "code",
   "execution_count": 11,
   "metadata": {},
   "outputs": [
    {
     "name": "stdout",
     "output_type": "stream",
     "text": [
      "<class 'pandas.core.frame.DataFrame'>\n",
      "RangeIndex: 591452 entries, 0 to 591451\n",
      "Data columns (total 4 columns):\n",
      " #   Column     Non-Null Count   Dtype\n",
      "---  ------     --------------   -----\n",
      " 0   id         591452 non-null  int64\n",
      " 1   parent_id  591452 non-null  int64\n",
      " 2   child_id   591452 non-null  int64\n",
      " 3   distance   591452 non-null  int64\n",
      "dtypes: int64(4)\n",
      "memory usage: 18.0 MB\n"
     ]
    }
   ],
   "source": [
    "# explore and clean event adjacency\n",
    "eventadjacency_RDF.info()"
   ]
  },
  {
   "cell_type": "code",
   "execution_count": 12,
   "metadata": {},
   "outputs": [
    {
     "data": {
      "text/html": [
       "<div>\n",
       "<style scoped>\n",
       "    .dataframe tbody tr th:only-of-type {\n",
       "        vertical-align: middle;\n",
       "    }\n",
       "\n",
       "    .dataframe tbody tr th {\n",
       "        vertical-align: top;\n",
       "    }\n",
       "\n",
       "    .dataframe thead th {\n",
       "        text-align: right;\n",
       "    }\n",
       "</style>\n",
       "<table border=\"1\" class=\"dataframe\">\n",
       "  <thead>\n",
       "    <tr style=\"text-align: right;\">\n",
       "      <th></th>\n",
       "      <th>id</th>\n",
       "      <th>parent_id</th>\n",
       "      <th>child_id</th>\n",
       "      <th>distance</th>\n",
       "    </tr>\n",
       "  </thead>\n",
       "  <tbody>\n",
       "    <tr>\n",
       "      <th>365435</th>\n",
       "      <td>687153</td>\n",
       "      <td>5791</td>\n",
       "      <td>81509</td>\n",
       "      <td>5</td>\n",
       "    </tr>\n",
       "    <tr>\n",
       "      <th>208198</th>\n",
       "      <td>520371</td>\n",
       "      <td>47667</td>\n",
       "      <td>47672</td>\n",
       "      <td>1</td>\n",
       "    </tr>\n",
       "    <tr>\n",
       "      <th>83059</th>\n",
       "      <td>378433</td>\n",
       "      <td>19632</td>\n",
       "      <td>19632</td>\n",
       "      <td>0</td>\n",
       "    </tr>\n",
       "    <tr>\n",
       "      <th>39123</th>\n",
       "      <td>345574</td>\n",
       "      <td>11927</td>\n",
       "      <td>3966</td>\n",
       "      <td>2</td>\n",
       "    </tr>\n",
       "    <tr>\n",
       "      <th>526567</th>\n",
       "      <td>851012</td>\n",
       "      <td>115306</td>\n",
       "      <td>116322</td>\n",
       "      <td>2</td>\n",
       "    </tr>\n",
       "  </tbody>\n",
       "</table>\n",
       "</div>"
      ],
      "text/plain": [
       "            id  parent_id  child_id  distance\n",
       "365435  687153       5791     81509         5\n",
       "208198  520371      47667     47672         1\n",
       "83059   378433      19632     19632         0\n",
       "39123   345574      11927      3966         2\n",
       "526567  851012     115306    116322         2"
      ]
     },
     "execution_count": 12,
     "metadata": {},
     "output_type": "execute_result"
    }
   ],
   "source": [
    "eventadjacency_RDF.sample(5)"
   ]
  },
  {
   "cell_type": "markdown",
   "metadata": {},
   "source": [
    "Lets keep exploring."
   ]
  },
  {
   "cell_type": "code",
   "execution_count": 15,
   "metadata": {},
   "outputs": [
    {
     "name": "stdout",
     "output_type": "stream",
     "text": [
      "<class 'pandas.core.frame.DataFrame'>\n",
      "RangeIndex: 401961 entries, 0 to 401960\n",
      "Data columns (total 11 columns):\n",
      " #   Column       Non-Null Count   Dtype  \n",
      "---  ------       --------------   -----  \n",
      " 0   date         401961 non-null  object \n",
      " 1   pla_id       401961 non-null  int64  \n",
      " 2   plb_id       401961 non-null  int64  \n",
      " 3   sca          401961 non-null  int64  \n",
      " 4   scb          401961 non-null  int64  \n",
      " 5   event        35241 non-null   object \n",
      " 6   eventobj_id  398957 non-null  float64\n",
      " 7   game         401961 non-null  object \n",
      " 8   offline      401961 non-null  object \n",
      " 9   rta_id       383824 non-null  float64\n",
      " 10  rtb_id       376194 non-null  float64\n",
      "dtypes: float64(3), int64(4), object(4)\n",
      "memory usage: 33.7+ MB\n"
     ]
    }
   ],
   "source": [
    "# explore and clean matches\n",
    "matches_RDF.drop(['id', 'period_id', 'rca', 'rcb', 'treated', 'submitter_id'], axis=1, inplace=True)\n",
    "matches_RDF.info()"
   ]
  },
  {
   "cell_type": "code",
   "execution_count": 16,
   "metadata": {
    "tags": []
   },
   "outputs": [
    {
     "data": {
      "text/html": [
       "<div>\n",
       "<style scoped>\n",
       "    .dataframe tbody tr th:only-of-type {\n",
       "        vertical-align: middle;\n",
       "    }\n",
       "\n",
       "    .dataframe tbody tr th {\n",
       "        vertical-align: top;\n",
       "    }\n",
       "\n",
       "    .dataframe thead th {\n",
       "        text-align: right;\n",
       "    }\n",
       "</style>\n",
       "<table border=\"1\" class=\"dataframe\">\n",
       "  <thead>\n",
       "    <tr style=\"text-align: right;\">\n",
       "      <th></th>\n",
       "      <th>date</th>\n",
       "      <th>pla_id</th>\n",
       "      <th>plb_id</th>\n",
       "      <th>sca</th>\n",
       "      <th>scb</th>\n",
       "      <th>event</th>\n",
       "      <th>eventobj_id</th>\n",
       "      <th>game</th>\n",
       "      <th>offline</th>\n",
       "      <th>rta_id</th>\n",
       "      <th>rtb_id</th>\n",
       "    </tr>\n",
       "  </thead>\n",
       "  <tbody>\n",
       "    <tr>\n",
       "      <th>309852</th>\n",
       "      <td>2013-09-15</td>\n",
       "      <td>145</td>\n",
       "      <td>242</td>\n",
       "      <td>0</td>\n",
       "      <td>2</td>\n",
       "      <td>NaN</td>\n",
       "      <td>20658.0</td>\n",
       "      <td>HotS</td>\n",
       "      <td>f</td>\n",
       "      <td>4883498.0</td>\n",
       "      <td>4883594.0</td>\n",
       "    </tr>\n",
       "    <tr>\n",
       "      <th>169945</th>\n",
       "      <td>2015-04-15</td>\n",
       "      <td>121</td>\n",
       "      <td>4167</td>\n",
       "      <td>2</td>\n",
       "      <td>0</td>\n",
       "      <td>NaN</td>\n",
       "      <td>43891.0</td>\n",
       "      <td>HotS</td>\n",
       "      <td>f</td>\n",
       "      <td>5299435.0</td>\n",
       "      <td>5303065.0</td>\n",
       "    </tr>\n",
       "    <tr>\n",
       "      <th>245115</th>\n",
       "      <td>2013-04-27</td>\n",
       "      <td>5102</td>\n",
       "      <td>229</td>\n",
       "      <td>0</td>\n",
       "      <td>2</td>\n",
       "      <td>NaN</td>\n",
       "      <td>29977.0</td>\n",
       "      <td>WoL</td>\n",
       "      <td>f</td>\n",
       "      <td>4941204.0</td>\n",
       "      <td>4823656.0</td>\n",
       "    </tr>\n",
       "    <tr>\n",
       "      <th>5490</th>\n",
       "      <td>2016-09-11</td>\n",
       "      <td>10927</td>\n",
       "      <td>10677</td>\n",
       "      <td>0</td>\n",
       "      <td>1</td>\n",
       "      <td>NaN</td>\n",
       "      <td>61481.0</td>\n",
       "      <td>LotV</td>\n",
       "      <td>f</td>\n",
       "      <td>5710853.0</td>\n",
       "      <td>5710622.0</td>\n",
       "    </tr>\n",
       "    <tr>\n",
       "      <th>113062</th>\n",
       "      <td>2021-06-05</td>\n",
       "      <td>317</td>\n",
       "      <td>23</td>\n",
       "      <td>0</td>\n",
       "      <td>3</td>\n",
       "      <td>NaN</td>\n",
       "      <td>122491.0</td>\n",
       "      <td>LotV</td>\n",
       "      <td>f</td>\n",
       "      <td>7705538.0</td>\n",
       "      <td>7705543.0</td>\n",
       "    </tr>\n",
       "  </tbody>\n",
       "</table>\n",
       "</div>"
      ],
      "text/plain": [
       "              date  pla_id  plb_id  sca  scb event  eventobj_id  game offline  \\\n",
       "309852  2013-09-15     145     242    0    2   NaN      20658.0  HotS       f   \n",
       "169945  2015-04-15     121    4167    2    0   NaN      43891.0  HotS       f   \n",
       "245115  2013-04-27    5102     229    0    2   NaN      29977.0   WoL       f   \n",
       "5490    2016-09-11   10927   10677    0    1   NaN      61481.0  LotV       f   \n",
       "113062  2021-06-05     317      23    0    3   NaN     122491.0  LotV       f   \n",
       "\n",
       "           rta_id     rtb_id  \n",
       "309852  4883498.0  4883594.0  \n",
       "169945  5299435.0  5303065.0  \n",
       "245115  4941204.0  4823656.0  \n",
       "5490    5710853.0  5710622.0  \n",
       "113062  7705538.0  7705543.0  "
      ]
     },
     "execution_count": 16,
     "metadata": {},
     "output_type": "execute_result"
    }
   ],
   "source": [
    "matches_RDF.sample(5)"
   ]
  },
  {
   "cell_type": "code",
   "execution_count": 17,
   "metadata": {},
   "outputs": [
    {
     "name": "stdout",
     "output_type": "stream",
     "text": [
      "<class 'pandas.core.frame.DataFrame'>\n",
      "RangeIndex: 21394 entries, 0 to 21393\n",
      "Data columns (total 16 columns):\n",
      " #   Column             Non-Null Count  Dtype  \n",
      "---  ------             --------------  -----  \n",
      " 0   id                 21394 non-null  int64  \n",
      " 1   tag                21393 non-null  object \n",
      " 2   name               4938 non-null   object \n",
      " 3   birthday           759 non-null    object \n",
      " 4   mcnum              5507 non-null   float64\n",
      " 5   tlpd_id            2914 non-null   float64\n",
      " 6   tlpd_db            7885 non-null   float64\n",
      " 7   lp_name            706 non-null    object \n",
      " 8   sc2e_id            450 non-null    float64\n",
      " 9   country            19029 non-null  object \n",
      " 10  race               21394 non-null  object \n",
      " 11  dom_val            20551 non-null  float64\n",
      " 12  dom_start_id       21299 non-null  float64\n",
      " 13  dom_end_id         21299 non-null  float64\n",
      " 14  current_rating_id  21288 non-null  float64\n",
      " 15  romanized_name     1333 non-null   object \n",
      "dtypes: float64(8), int64(1), object(7)\n",
      "memory usage: 2.6+ MB\n"
     ]
    }
   ],
   "source": [
    "# explore and clean player\n",
    "players_RDF.info()"
   ]
  },
  {
   "cell_type": "code",
   "execution_count": null,
   "metadata": {},
   "outputs": [],
   "source": []
  },
  {
   "cell_type": "code",
   "execution_count": null,
   "metadata": {
    "tags": []
   },
   "outputs": [],
   "source": [
    "import jovian"
   ]
  },
  {
   "cell_type": "code",
   "execution_count": null,
   "metadata": {},
   "outputs": [],
   "source": [
    "jovian.commit()"
   ]
  },
  {
   "cell_type": "markdown",
   "metadata": {},
   "source": [
    "## Exploratory Analysis and Visualization\n",
    "\n",
    "**TODO** - write some explanation here.\n",
    "\n"
   ]
  },
  {
   "cell_type": "markdown",
   "metadata": {},
   "source": [
    "> Instructions (delete this cell)\n",
    "> \n",
    "> - Compute the mean, sum, range and other interesting statistics for numeric columns\n",
    "> - Explore distributions of numeric columns using histograms etc.\n",
    "> - Explore relationship between columns using scatter plots, bar charts etc.\n",
    "> - Make a note of interesting insights from the exploratory analysis"
   ]
  },
  {
   "cell_type": "markdown",
   "metadata": {},
   "source": [
    "Let's begin by importing`matplotlib.pyplot` and `seaborn`."
   ]
  },
  {
   "cell_type": "code",
   "execution_count": null,
   "metadata": {},
   "outputs": [],
   "source": [
    "import seaborn as sns\n",
    "import matplotlib\n",
    "import matplotlib.pyplot as plt\n",
    "%matplotlib inline\n",
    "\n",
    "sns.set_style('darkgrid')\n",
    "matplotlib.rcParams['font.size'] = 14\n",
    "matplotlib.rcParams['figure.figsize'] = (9, 5)\n",
    "matplotlib.rcParams['figure.facecolor'] = '#00000000'"
   ]
  },
  {
   "cell_type": "markdown",
   "metadata": {},
   "source": [
    "**TODO** - Explore one or more columns by plotting a graph below, and add some explanation about it"
   ]
  },
  {
   "cell_type": "code",
   "execution_count": null,
   "metadata": {},
   "outputs": [],
   "source": []
  },
  {
   "cell_type": "code",
   "execution_count": null,
   "metadata": {},
   "outputs": [],
   "source": []
  },
  {
   "cell_type": "markdown",
   "metadata": {},
   "source": [
    "**TODO** - Explore one or more columns by plotting a graph below, and add some explanation about it"
   ]
  },
  {
   "cell_type": "code",
   "execution_count": null,
   "metadata": {},
   "outputs": [],
   "source": []
  },
  {
   "cell_type": "code",
   "execution_count": null,
   "metadata": {},
   "outputs": [],
   "source": []
  },
  {
   "cell_type": "markdown",
   "metadata": {},
   "source": [
    "**TODO** - Explore one or more columns by plotting a graph below, and add some explanation about it"
   ]
  },
  {
   "cell_type": "code",
   "execution_count": null,
   "metadata": {},
   "outputs": [],
   "source": []
  },
  {
   "cell_type": "code",
   "execution_count": null,
   "metadata": {},
   "outputs": [],
   "source": []
  },
  {
   "cell_type": "markdown",
   "metadata": {},
   "source": [
    "**TODO** - Explore one or more columns by plotting a graph below, and add some explanation about it"
   ]
  },
  {
   "cell_type": "code",
   "execution_count": null,
   "metadata": {},
   "outputs": [],
   "source": []
  },
  {
   "cell_type": "code",
   "execution_count": null,
   "metadata": {},
   "outputs": [],
   "source": []
  },
  {
   "cell_type": "markdown",
   "metadata": {},
   "source": [
    "**TODO** - Explore one or more columns by plotting a graph below, and add some explanation about it"
   ]
  },
  {
   "cell_type": "code",
   "execution_count": null,
   "metadata": {},
   "outputs": [],
   "source": []
  },
  {
   "cell_type": "code",
   "execution_count": null,
   "metadata": {},
   "outputs": [],
   "source": []
  },
  {
   "cell_type": "markdown",
   "metadata": {},
   "source": [
    "Let us save and upload our work to Jovian before continuing"
   ]
  },
  {
   "cell_type": "code",
   "execution_count": null,
   "metadata": {},
   "outputs": [],
   "source": [
    "import jovian"
   ]
  },
  {
   "cell_type": "code",
   "execution_count": null,
   "metadata": {},
   "outputs": [],
   "source": [
    "jovian.commit()"
   ]
  },
  {
   "cell_type": "markdown",
   "metadata": {},
   "source": [
    "## Asking and Answering Questions\n",
    "\n",
    "TODO - write some explanation here.\n",
    "\n"
   ]
  },
  {
   "cell_type": "markdown",
   "metadata": {},
   "source": [
    "> Instructions (delete this cell)\n",
    ">\n",
    "> - Ask at least 5 interesting questions about your dataset\n",
    "> - Answer the questions either by computing the results using Numpy/Pandas or by plotting graphs using Matplotlib/Seaborn\n",
    "> - Create new columns, merge multiple dataset and perform grouping/aggregation wherever necessary\n",
    "> - Wherever you're using a library function from Pandas/Numpy/Matplotlib etc. explain briefly what it does\n",
    "\n"
   ]
  },
  {
   "cell_type": "markdown",
   "metadata": {},
   "source": [
    "#### Q1: TODO - ask a question here and answer it below"
   ]
  },
  {
   "cell_type": "code",
   "execution_count": null,
   "metadata": {},
   "outputs": [],
   "source": []
  },
  {
   "cell_type": "code",
   "execution_count": null,
   "metadata": {},
   "outputs": [],
   "source": []
  },
  {
   "cell_type": "code",
   "execution_count": null,
   "metadata": {},
   "outputs": [],
   "source": []
  },
  {
   "cell_type": "markdown",
   "metadata": {},
   "source": [
    "#### Q2: TODO - ask a question here and answer it below"
   ]
  },
  {
   "cell_type": "code",
   "execution_count": null,
   "metadata": {},
   "outputs": [],
   "source": []
  },
  {
   "cell_type": "code",
   "execution_count": null,
   "metadata": {},
   "outputs": [],
   "source": []
  },
  {
   "cell_type": "code",
   "execution_count": null,
   "metadata": {},
   "outputs": [],
   "source": []
  },
  {
   "cell_type": "markdown",
   "metadata": {},
   "source": [
    "#### Q3: TODO - ask a question here and answer it below"
   ]
  },
  {
   "cell_type": "code",
   "execution_count": null,
   "metadata": {},
   "outputs": [],
   "source": []
  },
  {
   "cell_type": "code",
   "execution_count": null,
   "metadata": {},
   "outputs": [],
   "source": []
  },
  {
   "cell_type": "code",
   "execution_count": null,
   "metadata": {},
   "outputs": [],
   "source": []
  },
  {
   "cell_type": "markdown",
   "metadata": {},
   "source": [
    "#### Q4: TODO - ask a question here and answer it below"
   ]
  },
  {
   "cell_type": "code",
   "execution_count": null,
   "metadata": {},
   "outputs": [],
   "source": []
  },
  {
   "cell_type": "code",
   "execution_count": null,
   "metadata": {},
   "outputs": [],
   "source": []
  },
  {
   "cell_type": "code",
   "execution_count": null,
   "metadata": {},
   "outputs": [],
   "source": []
  },
  {
   "cell_type": "markdown",
   "metadata": {},
   "source": [
    "#### Q5: TODO - ask a question here and answer it below"
   ]
  },
  {
   "cell_type": "code",
   "execution_count": null,
   "metadata": {},
   "outputs": [],
   "source": []
  },
  {
   "cell_type": "code",
   "execution_count": null,
   "metadata": {},
   "outputs": [],
   "source": []
  },
  {
   "cell_type": "code",
   "execution_count": null,
   "metadata": {},
   "outputs": [],
   "source": []
  },
  {
   "cell_type": "markdown",
   "metadata": {},
   "source": [
    "Let us save and upload our work to Jovian before continuing."
   ]
  },
  {
   "cell_type": "code",
   "execution_count": null,
   "metadata": {},
   "outputs": [],
   "source": [
    "import jovian"
   ]
  },
  {
   "cell_type": "code",
   "execution_count": null,
   "metadata": {},
   "outputs": [],
   "source": [
    "jovian.commit()"
   ]
  },
  {
   "cell_type": "markdown",
   "metadata": {},
   "source": [
    "## Inferences and Conclusion\n",
    "\n",
    "**TODO** - Write some explanation here: a summary of all the inferences drawn from the analysis, and any conclusions you may have drawn by answering various questions."
   ]
  },
  {
   "cell_type": "code",
   "execution_count": null,
   "metadata": {},
   "outputs": [],
   "source": [
    "import jovian"
   ]
  },
  {
   "cell_type": "code",
   "execution_count": null,
   "metadata": {},
   "outputs": [],
   "source": [
    "jovian.commit()"
   ]
  },
  {
   "cell_type": "markdown",
   "metadata": {},
   "source": [
    "## References and Future Work\n",
    "\n",
    "**TODO** - Write some explanation here: ideas for future projects using this dataset, and links to resources you found useful."
   ]
  },
  {
   "cell_type": "markdown",
   "metadata": {},
   "source": [
    "> Submission Instructions (delete this cell)\n",
    "> \n",
    "> - Upload your notebook to your Jovian.ml profile using `jovian.commit`.\n",
    "> - **Make a submission here**: https://jovian.ml/learn/data-analysis-with-python-zero-to-pandas/assignment/course-project\n",
    "> - Share your work on the forum: https://jovian.ml/forum/t/course-project-on-exploratory-data-analysis-discuss-and-share-your-work/11684\n",
    "> - Share your work on social media (Twitter, LinkedIn, Telegram etc.) and tag [@JovianML](https://twitter.com/jovianml)\n",
    ">\n",
    "> (Optional) Write a blog post\n",
    "> \n",
    "> - A blog post is a great way to present and showcase your work.  \n",
    "> - Sign up on [Medium.com](https://medium.com) to write a blog post for your project.\n",
    "> - Copy over the explanations from your Jupyter notebook into your blog post, and [embed code cells & outputs](https://medium.com/jovianml/share-and-embed-jupyter-notebooks-online-with-jovian-ml-df709a03064e)\n",
    "> - Check out the Jovian.ml Medium publication for inspiration: https://medium.com/jovianml\n",
    "\n",
    "\n",
    " "
   ]
  },
  {
   "cell_type": "code",
   "execution_count": null,
   "metadata": {},
   "outputs": [],
   "source": [
    "import jovian"
   ]
  },
  {
   "cell_type": "code",
   "execution_count": null,
   "metadata": {
    "scrolled": true
   },
   "outputs": [],
   "source": [
    "jovian.commit()"
   ]
  },
  {
   "cell_type": "code",
   "execution_count": null,
   "metadata": {},
   "outputs": [],
   "source": []
  }
 ],
 "metadata": {
  "interpreter": {
   "hash": "ce5d4c5ce0eae8759d521230ff7b88377fa62fb91656e5c2966f4bb1fdd362b7"
  },
  "kernelspec": {
   "display_name": "Python 3 (ipykernel)",
   "language": "python",
   "name": "python3"
  },
  "language_info": {
   "codemirror_mode": {
    "name": "ipython",
    "version": 3
   },
   "file_extension": ".py",
   "mimetype": "text/x-python",
   "name": "python",
   "nbconvert_exporter": "python",
   "pygments_lexer": "ipython3",
   "version": "3.9.12"
  }
 },
 "nbformat": 4,
 "nbformat_minor": 4
}
